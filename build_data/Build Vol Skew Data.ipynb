{
 "cells": [
  {
   "cell_type": "code",
   "execution_count": 22,
   "id": "1523fa4e",
   "metadata": {},
   "outputs": [],
   "source": [
    "import pandas as pd\n",
    "import numpy as np\n",
    "import datetime\n",
    "import warnings\n",
    "\n",
    "from scipy.stats import norm\n",
    "\n",
    "import matplotlib.pyplot as plt\n",
    "%matplotlib inline\n",
    "plt.rcParams['figure.figsize'] = (12,6)\n",
    "plt.rcParams['font.size'] = 15\n",
    "plt.rcParams['legend.fontsize'] = 13\n",
    "\n",
    "from matplotlib.ticker import (MultipleLocator,\n",
    "                               FormatStrFormatter,\n",
    "                               AutoMinorLocator)\n",
    "\n",
    "import sys\n",
    "sys.path.insert(0,'../cmds')\n",
    "from options import *"
   ]
  },
  {
   "cell_type": "code",
   "execution_count": 23,
   "id": "ce4d57e3",
   "metadata": {},
   "outputs": [],
   "source": [
    "import quandl"
   ]
  },
  {
   "cell_type": "code",
   "execution_count": 24,
   "id": "69685705",
   "metadata": {},
   "outputs": [],
   "source": [
    "file_key = open(\"../../keys/quandl_key.txt\",\"r\")\n",
    "API_KEY = file_key.read()\n",
    "file_key.close()\n",
    "\n",
    "quandl.ApiConfig.api_key = API_KEY"
   ]
  },
  {
   "cell_type": "markdown",
   "id": "a4951197",
   "metadata": {},
   "source": [
    "## Tickers\n",
    "\n",
    "https://data.nasdaq.com/data/OWF-optionworks-futures-options/documentation?anchor=coverage-data-organization"
   ]
  },
  {
   "cell_type": "code",
   "execution_count": 25,
   "id": "5632cbce",
   "metadata": {},
   "outputs": [],
   "source": [
    "TICKS = [\n",
    "    'OWF/CBT_FV_FV_U2023_IV',\n",
    "    'OWF/CME_ES_ES_U2023_IV',\n",
    "    'OWF/CBT_TY_TY_U2023_IV',\n",
    "    'OWF/CBT_FF_FF_N2023_IV'\n",
    "    'OWF/CME_ED_ED_U2023_IV'\n",
    "]\n",
    "\n",
    "ticksplitlabs = ['exchange','futures ticker','option ticker','monthYear']\n",
    "info = pd.DataFrame(index=ticksplitlabs)\n",
    "info.index.name = 'specs'\n",
    "surfs = dict()\n",
    "labels = dict()"
   ]
  },
  {
   "cell_type": "code",
   "execution_count": 26,
   "id": "bae4a374",
   "metadata": {},
   "outputs": [],
   "source": [
    "for tick in TICKS:\n",
    "    ### Download Data\n",
    "    df_model = quandl.get(f'{tick}M')\n",
    "    df_surf = quandl.get(f'{tick}S')\n",
    "\n",
    "    ### Organize Labels\n",
    "    finalDate = df_model.index[-1]\n",
    "    tick_split = tick.split('/')[1].split('_')[0:-1]\n",
    "    labels[tick] = ' '.join(tick_split)\n",
    "    label = labels[tick]\n",
    "\n",
    "    ### Data Descriptions\n",
    "    info.loc[ticksplitlabs,label] = tick_split\n",
    "    info.loc['option expiration',label] = (finalDate + datetime.timedelta(df_model.loc[finalDate,'DtE'])).strftime('%Y-%m-%d')\n",
    "    info.loc['future expiration',label] = (finalDate + datetime.timedelta(df_model.loc[finalDate,'DtT'])).strftime('%Y-%m-%d')\n",
    "\n",
    "\n",
    "    ### Organize Data\n",
    "    surf = df_surf.drop(columns=['DNSvol','DtE']).join(df_model[['Future','DtE','DtT']]).rename(columns={'DtT': 'Expiration Future','DtE':'Expiration Option','Future':'Future Price'})\n",
    "    surf = pd.concat([surf.iloc[:,-3:], surf.iloc[:,0:-3]],axis=1)\n",
    "    surf[['Expiration Future','Expiration Option']] /= 365\n",
    "    \n",
    "    surfs[tick] = surf"
   ]
  },
  {
   "cell_type": "code",
   "execution_count": 27,
   "id": "f8b035b3",
   "metadata": {},
   "outputs": [],
   "source": [
    "with pd.ExcelWriter('../vol_surfaces.xlsx') as writer:  \n",
    "    info.to_excel(writer, sheet_name= 'descriptions')\n",
    "    for tick in TICKS:\n",
    "        surfs[tick].to_excel(writer, sheet_name=labels[tick])"
   ]
  }
 ],
 "metadata": {
  "hide_input": false,
  "kernelspec": {
   "display_name": "Python 3 (ipykernel)",
   "language": "python",
   "name": "python3"
  },
  "language_info": {
   "codemirror_mode": {
    "name": "ipython",
    "version": 3
   },
   "file_extension": ".py",
   "mimetype": "text/x-python",
   "name": "python",
   "nbconvert_exporter": "python",
   "pygments_lexer": "ipython3",
   "version": "3.9.6"
  }
 },
 "nbformat": 4,
 "nbformat_minor": 5
}
