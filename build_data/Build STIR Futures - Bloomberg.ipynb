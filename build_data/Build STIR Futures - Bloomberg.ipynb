{
 "cells": [
  {
   "cell_type": "code",
   "execution_count": 1,
   "id": "cae1996e",
   "metadata": {},
   "outputs": [],
   "source": [
    "from xbbg import blp\n",
    "from xbbg.core import conn,process\n",
    "from datetime import date\n",
    "from datetime import datetime\n",
    "\n",
    "import pandas as pd"
   ]
  },
  {
   "cell_type": "code",
   "execution_count": 2,
   "id": "ccd613e9",
   "metadata": {},
   "outputs": [],
   "source": [
    "SAVEDATA = True\n",
    "DATE_HISTORIC = '2022-10-25'"
   ]
  },
  {
   "cell_type": "markdown",
   "id": "020cce14",
   "metadata": {},
   "source": [
    "# STIR Futures"
   ]
  },
  {
   "cell_type": "code",
   "execution_count": 3,
   "id": "3a0a4891",
   "metadata": {
    "scrolled": true
   },
   "outputs": [],
   "source": [
    "def get_futures_chain(fut_active,Nchain):\n",
    "    chain = blp.bds(fut_active,'FUT_CHAIN')\n",
    "    futflds = ['PX_SETTLE_LAST_DT','PX_LAST','OPEN_INT','FUT_DAYS_EXPIRE','LAST_TRADEABLE_DT']\n",
    "    ticks = chain['security_description'].iloc[:Nchain]\n",
    "    futdata = blp.bdp(ticks, futflds).sort_values('last_tradeable_dt')\n",
    "    return futdata"
   ]
  },
  {
   "cell_type": "markdown",
   "id": "e3d41415",
   "metadata": {},
   "source": [
    "### Get Live Data"
   ]
  },
  {
   "cell_type": "code",
   "execution_count": 4,
   "id": "13285872",
   "metadata": {},
   "outputs": [],
   "source": [
    "fut = 'FFA Comdty'\n",
    "Nchain = 18\n",
    "ffdata = get_futures_chain(fut,Nchain)\n",
    "ffdata.index.name = 'ticker'\n",
    "\n",
    "DATE = ffdata['px_settle_last_dt'].iloc[0].strftime('%Y-%m-%d')"
   ]
  },
  {
   "cell_type": "markdown",
   "id": "c7dcc891",
   "metadata": {},
   "source": [
    "### Get Historic Date"
   ]
  },
  {
   "cell_type": "code",
   "execution_count": 5,
   "id": "a6b10bf5",
   "metadata": {},
   "outputs": [],
   "source": [
    "futflds = ['PX_LAST']\n",
    "chain = blp.bds(fut,'FUT_CHAIN')\n",
    "ticks = chain['security_description'].iloc[:Nchain]\n",
    "futdata_historic = blp.bdh(ticks, futflds, start_date=DATE_HISTORIC).droplevel(level=1,axis=1).iloc[[0],:].T"
   ]
  },
  {
   "cell_type": "markdown",
   "id": "42e8ce1a",
   "metadata": {},
   "source": [
    "### Fed Funds"
   ]
  },
  {
   "cell_type": "code",
   "execution_count": 6,
   "id": "296ba800",
   "metadata": {},
   "outputs": [],
   "source": [
    "fedfunds = blp.bdp(['FEDL01 Index', 'FDTR Index'],['PX_LAST','SHORT_NAME'],single_date_override=DATE)\n",
    "fedfunds['date'] = DATE\n",
    "fedfunds.index.name = 'ticker'\n",
    "fedfunds"
   ]
  },
  {
   "cell_type": "markdown",
   "id": "c3667fd3",
   "metadata": {},
   "source": [
    "### Fed Calendar"
   ]
  },
  {
   "cell_type": "code",
   "execution_count": 7,
   "id": "70efa91d",
   "metadata": {},
   "outputs": [],
   "source": [
    "feddts = ['2023-05-03',\n",
    "        '2023-06-14',\n",
    "        '2023-07-26',\n",
    "        '2023-09-20',\n",
    "        '2023-11-01',\n",
    "        '2023-12-13',\n",
    "         '2024-01-26',\n",
    "         '2024-03-22',\n",
    "         '2024-05-03',\n",
    "         '2024-06-14',\n",
    "         '2024-07-26']\n",
    "\n",
    "feddts = pd.Series([datetime.strptime(dt,'%Y-%m-%d').date() for dt in feddts], name='meeting dates')"
   ]
  },
  {
   "cell_type": "markdown",
   "id": "c4bdd66a",
   "metadata": {},
   "source": [
    "***"
   ]
  },
  {
   "cell_type": "markdown",
   "id": "91222a37",
   "metadata": {},
   "source": [
    "## SOFR Futures"
   ]
  },
  {
   "cell_type": "code",
   "execution_count": 8,
   "id": "33f3a18d",
   "metadata": {},
   "outputs": [],
   "source": [
    "fut = 'SERA Comdty'\n",
    "Nchain = 12\n",
    "sofrdata1 = get_futures_chain(fut,Nchain)\n",
    "sofrdata1"
   ]
  },
  {
   "cell_type": "code",
   "execution_count": 9,
   "id": "36c7ba20",
   "metadata": {},
   "outputs": [],
   "source": [
    "fut = 'SFRA Comdty'\n",
    "Nchain = 12\n",
    "sofrdata3 = get_futures_chain(fut,Nchain)\n",
    "sofrdata3"
   ]
  },
  {
   "cell_type": "markdown",
   "id": "527006c0",
   "metadata": {},
   "source": [
    "### Save Data"
   ]
  },
  {
   "cell_type": "code",
   "execution_count": 10,
   "id": "ca41ffda",
   "metadata": {},
   "outputs": [],
   "source": [
    "if SAVEDATA:    \n",
    "    outfile = f'../data/fedfutures_{DATE}.xlsx'\n",
    "    with pd.ExcelWriter(outfile) as writer:  \n",
    "        ffdata.to_excel(writer, sheet_name= 'fed futures', index=True) \n",
    "        fedfunds.to_excel(writer, sheet_name= 'fed funds', index=True) \n",
    "        feddts.to_excel(writer, sheet_name= 'fed meetings', index=False)\n",
    "        futdata_historic.to_excel(writer, sheet_name= f'fed futures {DATE_HISTORIC}', index=True)"
   ]
  }
 ],
 "metadata": {
  "kernelspec": {
   "display_name": "Python 3 (ipykernel)",
   "language": "python",
   "name": "python3"
  },
  "language_info": {
   "codemirror_mode": {
    "name": "ipython",
    "version": 3
   },
   "file_extension": ".py",
   "mimetype": "text/x-python",
   "name": "python",
   "nbconvert_exporter": "python",
   "pygments_lexer": "ipython3",
   "version": "3.10.10"
  }
 },
 "nbformat": 4,
 "nbformat_minor": 5
}
