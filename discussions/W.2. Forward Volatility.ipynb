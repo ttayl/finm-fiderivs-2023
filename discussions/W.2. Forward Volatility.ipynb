{
 "cells": [
  {
   "cell_type": "markdown",
   "id": "0cc2bd13",
   "metadata": {},
   "source": [
    "# W.2. Flat and Forward Volatility\n",
    "\n",
    "## FINM 37500 - 2023\n",
    "\n",
    "### UChicago Financial Mathematics\n",
    "\n",
    "* Mark Hendricks\n",
    "* hendricks@uchicago.edu"
   ]
  },
  {
   "cell_type": "markdown",
   "id": "be7c23bb",
   "metadata": {},
   "source": [
    "# Flat and Forward Volatility"
   ]
  },
  {
   "cell_type": "markdown",
   "id": "25b741e7",
   "metadata": {},
   "source": [
    "LaTeX notation\n",
    "$$\\newcommand{\\floorlet}{c}$$\n",
    "$$\\newcommand{\\dt}{dt}$$\n",
    "$$\\newcommand{\\flatvol}{\\overline{\\sigma}}$$\n",
    "$$\\newcommand{\\flatvolT}{\\overline{\\sigma_{T}}}$$\n",
    "$$\\newcommand{\\fwdvol}{\\overrightarrow{\\sigma}}$$\n",
    "$$\\newcommand{\\fwdvolTi}{\\overrightarrow{\\sigma_{T_i}}}$$\n",
    "\n",
    "\n",
    "$$\\newcommand{\\Efwd}{\\tilde{E}}$$\n",
    "$\\newcommand{\\strike}{K}$\n",
    "\n",
    "$\\newcommand{\\nargcond}{d_{1}}$\n",
    "$\\newcommand{\\nargexer}{d_{2}}$\n",
    "\n",
    "$\\newcommand{\\EcondS}{\\hat{S}_{\\text{conditional}}}$\n",
    "$\\newcommand{\\probexer}{\\hat{\\mathcal{P}}_{\\text{exercise}}}$"
   ]
  },
  {
   "cell_type": "markdown",
   "id": "2d3d1721",
   "metadata": {},
   "source": [
    "### Arbitrary parameterization\n",
    "\n",
    "* We chose an arbitrary value in BDT for $\\sigma$.\n",
    "\n",
    "* While we could parameterize $\\sigma$ for the natural-measure vol, this will not lead to satisfactory pricing.\n",
    "\n",
    "* Rather, we fit $\\sigma$ to the implied volatility of a benchmark derivative.\n",
    "\n",
    "### Caps and Floors\n",
    "\n",
    "The largest OTC rate derivatives are caps, floors, and swaptions.\n",
    "\n",
    "Caps and floors thus seem like a liquid benchmark for this parameterization.\n",
    "\n",
    "But how do we pick which cap or floor to use? "
   ]
  },
  {
   "cell_type": "markdown",
   "id": "becdd8f0",
   "metadata": {},
   "source": [
    "## Flat Volatility\n",
    "\n",
    "The **flat** volatility is the **implied** volatility that matches the market price of a given **cap** or **floor**.\n",
    "\n",
    "### A single implied vol for the bundle!\n",
    "\n",
    "Note that a cap (floor) is a portfolio of various options.\n",
    "\n",
    "Yet the **flat** volatility is quoting a single implied volatility to price each caplet (floorlet), even though it contains options at different maturities.\n",
    "\n",
    "$$p_{\\text{cap}}(T) = \\sum_{i=1}^n p_{\\text{caplet}}(T_i,\\flatvolT)$$\n",
    "\n",
    "In this sense, the **flat** volatility is a quoting convention.\n",
    "* It quotes the price of the bundle of caplets (floorlets) for a given maturity.\n",
    "* It is inconsistent: it prices the caplets (floorlets) based on which bundle they are in instead of which maturity they have.\n",
    "* The $T=.5$ and $T=1$ cap both have a caplet at $T=.5$, yet the **flat** volatility assigns them different vols, due to being in different bundles (caps)."
   ]
  },
  {
   "cell_type": "markdown",
   "id": "224521c9",
   "metadata": {},
   "source": [
    "### Sound Familiar?\n",
    "\n",
    "This is **exactly** the issue with **yield-to-maturity**!\n",
    "* YTM is a useful way to quote bond prices to account for differing maturities / coupouns.\n",
    "* Flat vol is a useful way to quote cap/floor prices to account for differing expirations / strikes."
   ]
  },
  {
   "cell_type": "markdown",
   "id": "ba1283b2",
   "metadata": {},
   "source": [
    "## Forward Volatility\n",
    "\n",
    "For pricing, we need an implied volatility that is applicable to every **caplet** (floorlet) of a given maturity, $T_i$.\n",
    "\n",
    "Then, pricing a **cap**, which is a bundle of **caplets** would be done with...\n",
    "\n",
    "$$p_{\\text{cap}}(T) = \\sum_{i=1}^n p_{\\text{caplet}}(T_i,\\fwdvolTi)$$"
   ]
  },
  {
   "cell_type": "markdown",
   "id": "5786f5f1",
   "metadata": {},
   "source": [
    "### Pricing\n",
    "\n",
    "Neither YTM nor flat volatility is appropriate to use for discounted cashflow pricing!\n",
    "\n",
    "Forward volatilities are appropriate--exactly as the **discount (spot) rate** is for bonds.\n",
    "\n",
    "I'll bet you can guess what we need to do...\n",
    "\n",
    "### Extracting Forward Volatilites from Flat Volatilities\n",
    "\n",
    "We can **bootstrap** the forward volatilities.\n",
    "\n",
    "1. Get a set of caps with expirations on a grid of dates, $T_i$, starting with $i=1$. Make sure there is a cap expiring on each $T_i$.\n",
    "2. Uncover $\\fwdvol$ for $i=1$ by noting it equals the flat vol.\n",
    "3. For $i=2$, use the $\\fwdvol$ for $i=1$ and $\\flatvol$ for $i=1$ to uncover $\\fwdvol$ for $i=2$.\n",
    "\n",
    "This is also referred to as *stripping* the forward volatilities."
   ]
  },
  {
   "cell_type": "markdown",
   "id": "741339ca",
   "metadata": {},
   "source": [
    "# Parameterizing BDT"
   ]
  },
  {
   "cell_type": "markdown",
   "id": "1e4a3d5b",
   "metadata": {},
   "source": [
    "### Two quotes and two parameters\n",
    "\n",
    "The **forward volatilites** can be used as $\\sigma_t$ in BDT.\n",
    "* That is, we are now allowing time-varying vol in the BDT dynamics.\n",
    "* By using these forward vols, the BDT model will fit the term structure of rates **and** of cap/floors.\n",
    "\n",
    "#### Solution?\n",
    "You'll recall that we can recursively solve for the drifts, $\\theta_i$ for each period $i$ by fitting the term structure of rates, (using zero-coupon bonds or a similar discount-curve set of securities.)\n",
    "\n",
    "With a term structure of caps/floors, we can strip out the caplets/floorlets.\n",
    "* Recursively solve for $\\sigma_i$ in each period simultaneously with $\\theta_i$ to fit both the discount rates and the caplet/floorlet rates.\n",
    "\n",
    "Is there a solution?\n",
    "* Yes. Each period two unknowns: $\\theta_i, \\sigma_i$ and two market quotes, (zero coupon bond and cap/floor.)\n",
    "* But this procedure relies on having a complete set of market quotes from $0\\le t\\le T$. \n",
    "* Often some maturities are missing, and the user interpolates a discount rate and a cap/floor rate."
   ]
  },
  {
   "cell_type": "markdown",
   "id": "aeb0157e",
   "metadata": {},
   "source": [
    "### Black's Formula\n",
    "\n",
    "In practice, there is a more common approach to parameterizing the tree than the two-variable optimization above of simultaneously solving $\\theta_i$ and $\\sigma_i$ at each step.\n",
    "\n",
    "Recall the continuous-time **Black's Formula**.\n",
    "\n",
    "Any derivative of a forward is a martingale:\n",
    "$$f(F,t) = Z(t,T)\\Efwd\\left[f(F,T)\\right]$$\n",
    "where \n",
    "* $F$ denotes the forward of an arbitrary asset.\n",
    "* and $\\Efwd$ denotes the expectation under the **forward measure**\n",
    "\n",
    "$$\\begin{align}\n",
    "c_t\\; =&\\; Z(t,T)\\left[F_t\\mathcal{N}(\\nargcond) - \\strike \\mathcal{N}\\left(\\nargexer\\right)\\right]\\\\\n",
    "p_t\\; =&\\; Z(t,T)\\left[\\strike\\mathcal{N}(-\\nargexer) - F_t \\mathcal{N}\\left(-\\nargcond\\right)\\right]\n",
    "\\end{align}$$\n",
    "\n",
    "where $\\nargcond$ and $\\nargexer$ are\n",
    "\n",
    "$\\begin{align}\n",
    "\\nargcond = \\frac{\\ln\\left(\\frac{F_t}{\\strike}\\right) + \\frac{\\sigma^2}{2}T}{\\sigma\\sqrt{T}} \\hspace{1cm} \n",
    "\\nargexer = \\nargcond -\\sigma\\sqrt{T}\n",
    "\\end{align}$"
   ]
  },
  {
   "cell_type": "markdown",
   "id": "3f2850d5",
   "metadata": {},
   "source": [
    "## Implied vol (Black)\n",
    "\n",
    "1. Use the caps / floors to strip out caplets / floorlets in a term structure for maturities $0\\le t \\le T$.\n",
    "2. Solve Black's formula for $\\sigma_t$ for each maturity such that Black's formula matches the market price.\n",
    "3. Use this set of implied forward volatilities in the BDT model.\n",
    "\n",
    "This is considerably faster than solving $\\theta, \\sigma$ jointly at each step. "
   ]
  },
  {
   "cell_type": "markdown",
   "id": "ca2cac59",
   "metadata": {},
   "source": [
    "### Theoretically Consistent?\n",
    "\n",
    "Are we haphazardly sticking two models together: BDT (discrete time) and Black (continuous time)?\n",
    "* No. It can be shown that BDT works as a discretization of Black.\n",
    "* For small time steps in BDT, the implied vols from the direct estimation will converge to the implied vols from Black's formula."
   ]
  },
  {
   "cell_type": "markdown",
   "id": "849c97da",
   "metadata": {},
   "source": [
    "## Market Quoting Convention\n",
    "\n",
    "In fact, this implied Black's volatility is not just handy for working with the BDT model.\n",
    "\n",
    "**It is the market convention for quoting cap and floor prices.**\n",
    "\n",
    "A cap will be quoted with a flat vol.\n",
    "* To determine the actual market price, plug this flat vol into Black's formula for each corresponding caplet.\n",
    "\n",
    "Questions:\n",
    "* What if you do not want to model with Black's formula? Is this a problem?\n",
    "* Why are caps, floors, and swaptions quoted in terms of implied vol?\n",
    "\n",
    "### \"Normal\" quotes\n",
    "\n",
    "In recent years, it is common to see a \"normal\" quote for implied volatilities.\n",
    "* In recent years, the issue of negative rates / prices has become relevant.\n",
    "* Thus, \"normal\" models such as Bachelier are standard.\n",
    "* (Black's formula relies on lognormal dynamics.)\n",
    "* These normal vol quotes can be converted to Black vols and vice-versa.\n",
    "* Bloomberg displays quotes in both measures, for instance."
   ]
  },
  {
   "cell_type": "markdown",
   "id": "6e737081",
   "metadata": {},
   "source": [
    "***"
   ]
  },
  {
   "cell_type": "markdown",
   "id": "c79df92f",
   "metadata": {},
   "source": [
    "# Swaptions and forward volatilites\n",
    "\n",
    "Determining forward volatilities is a key part of workign with **swaptions**, a massive (in some respects, the largest,) OTC options.\n",
    "\n",
    "Swaptions are different from caps/floors\n",
    "* A swaption is a single option on a stream of payments.\n",
    "* A cap/floor is a stream of options on single payments.\n",
    "\n",
    "But both can be seen as options on forwards.\n",
    "* Recall that swaps are portfolios of forward rate agreements.\n",
    "\n",
    "Accordingly, the **forward volatilities** between caps/floors and swaptions lead to no-arbitrage relationships.\n",
    "\n",
    "Forward Volatility Agreements (FVAs) are trading implied vol on these forward productions."
   ]
  },
  {
   "cell_type": "markdown",
   "id": "b52629ac",
   "metadata": {},
   "source": [
    "### Volatility of the Forward Measure\n",
    "\n",
    "Consider using Black's model and forward-measure pricing to...\n",
    "* extract the forward measure (similar to the risk neutral measure) from caps\n",
    "* apply the measure to swaptions\n",
    "\n",
    "We can extract what we need from caps with the...\n",
    "* quoted cap prices \n",
    "* forward rates\n",
    "* discount factors\n",
    "\n",
    "With the **forward volatilities**...\n",
    "* convert them to forward-measure volatility\n",
    "* price swaptions (or anything else depending on these rates) using\n",
    "    - Black's model\n",
    "    - monte carlo simulation"
   ]
  }
 ],
 "metadata": {
  "kernelspec": {
   "display_name": "Python 3 (ipykernel)",
   "language": "python",
   "name": "python3"
  },
  "language_info": {
   "codemirror_mode": {
    "name": "ipython",
    "version": 3
   },
   "file_extension": ".py",
   "mimetype": "text/x-python",
   "name": "python",
   "nbconvert_exporter": "python",
   "pygments_lexer": "ipython3",
   "version": "3.9.6"
  }
 },
 "nbformat": 4,
 "nbformat_minor": 5
}
