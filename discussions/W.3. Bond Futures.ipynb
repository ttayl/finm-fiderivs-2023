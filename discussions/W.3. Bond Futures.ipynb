{
 "cells": [
  {
   "cell_type": "markdown",
   "id": "0cc2bd13",
   "metadata": {},
   "source": [
    "# W.3. Bond Futures\n",
    "\n",
    "## FINM 37500 - 2023\n",
    "\n",
    "### UChicago Financial Mathematics\n",
    "\n",
    "* Mark Hendricks\n",
    "* hendricks@uchicago.edu"
   ]
  },
  {
   "cell_type": "markdown",
   "id": "0dbef592",
   "metadata": {},
   "source": [
    "#### Notation Commands\n",
    "\n",
    "$$\\newcommand{\\cpn}{\\text{c}}$$\n",
    "$$\\newcommand{\\Tunder}{T_\\text{bond}}$$\n",
    "$$\\newcommand{\\accint}{\\xi}$$\n",
    "$$\\newcommand{\\convert}{\\psi}$$\n",
    "$$\\newcommand{\\ctd}{\\text{ctd}}$$\n",
    "\n",
    "$$\\newcommand{\\refrate}{r^{\\text{ref}}}$$\n",
    "$$\\newcommand{\\pfwd}{P_{\\text{fwd}}}$$\n",
    "$$\\newcommand{\\grossbasis}{\\Gamma}$$\n",
    "$$\\newcommand{\\netbasis}{\\tilde{\\grossbasis}}$$\n",
    "$$\\newcommand{\\pnl}{\\Pi}$$\n",
    "\n",
    "$$\\newcommand{\\years}{\\tau}$$\n",
    "$$\\newcommand{\\yearsACT}{\\years_{\\text{act/360}}}$$\n",
    "\n",
    "$$\\newcommand{\\fwdprice}{\\mathcal{F}_{t\\to T}}$$\n",
    "$$\\newcommand{\\futprice}{F_{t\\to T}}$$\n",
    "\n",
    "$$\\newcommand{\\fwdpriceT}{\\mathcal{F}_{T\\to T}}$$\n",
    "$$\\newcommand{\\futpriceT}{F_{T\\to T}}$$\n",
    "\n",
    "$$\\newcommand{\\fwdpriceDT}{\\mathcal{F}_{t+h\\to T}}$$\n",
    "$$\\newcommand{\\futpriceDT}{F_{t+h\\to T}}$$\n",
    "\n",
    "$$\\newcommand{\\rrepo}{r^{\\text{repo}}}$$\n",
    "$$\\newcommand{\\carry}{\\widetilde{\\cpn}}$$"
   ]
  },
  {
   "cell_type": "markdown",
   "id": "7a0d74d6",
   "metadata": {},
   "source": [
    "# Forward Pricing"
   ]
  },
  {
   "cell_type": "markdown",
   "id": "055d6e37",
   "metadata": {},
   "source": [
    "### Basics\n",
    "A **forward** agreement is a commitment at $t$ to purchase an asset at time $T$ for a price $\\fwdprice$.\n",
    "* The rate is set such that the **value** of the forward is \\$0 when it is entered.\n",
    "* The value will change over time.\n",
    "* Unlike an option, the net value at expiration could be to either party.\n",
    "\n",
    "This is similar to\n",
    "* swaps\n",
    "* futures\n",
    "\n",
    "Note then that $\\fwdprice(t,T)$ is not the **value** of the futures contract. \n",
    "* Rather, at the time the contract is entered, the forward price is set such that the value of the contract is 0."
   ]
  },
  {
   "cell_type": "markdown",
   "id": "b21ecf38",
   "metadata": {},
   "source": [
    "### Synthetic Forwards\n",
    "\n",
    "Replicate the forward by \n",
    "* purchasing the asset at $t$\n",
    "* immediately repo it for term to $T$\n",
    "* at $T$, close the repo by repurchasing at $P_t (1+\\rrepo\\yearsACT)$ where \n",
    "    * $\\rrepo$ denotes the simply compounded repo rate\n",
    "    * $\\yearsACT$ denotes the forward interval, $T-t$ measured in (ACT/360)"
   ]
  },
  {
   "cell_type": "markdown",
   "id": "06df431d",
   "metadata": {},
   "source": [
    "### Carry and the Forward Drop?\n",
    "\n",
    "Do you think the forward price is higher or lower than the spot?\n",
    "\n",
    "The **forward drop** is commonly seen as the futures price is typically lower than the spot price.\n",
    "* If coupon is higher than repo, the spot is more attractive, all else equal. Accordingly, future price must be lower than spot.\n",
    "* If coupon is lower than repo, than the forward price should be higher.\n",
    "\n",
    "### Carry\n",
    "Recall from FINM 36700 or FINM 37400 that **carry** (in this context) refers to the difference of the coupon of bond $i$ over the short-term (repo) interest rate.\n",
    "\n",
    "$$\\carry^i = \\cpn^i-\\rrepo$$\n",
    "\n",
    "The logic of the forward drop (or forward rise) can be stated as\n",
    "$$\\years\\carry^i = P_t^i - \\fwdprice^i$$\n",
    "\n",
    "#### Note\n",
    "This relationship is analogous to Covered Interest Parity in FX (See FINM 36700) and will approximately hold by no-arbitrage."
   ]
  },
  {
   "cell_type": "markdown",
   "id": "3a8b4b54",
   "metadata": {},
   "source": [
    "## Example\n",
    "\n",
    "T-note with the following specs:\n",
    "* coupon is 4\\%\n",
    "* matures 2030-02-28\n",
    "* issued 2023-02-28\n",
    "* first coupon 2023-08-31\n",
    "\n",
    "Now consider pricing a forward in the following environment...\n",
    "* $t=$2023-04-18\n",
    "* forward maturity $T=$2023-08-01\n",
    "* spot price $P_t = 102-02$\n",
    "* repo rate is $.0485$"
   ]
  },
  {
   "cell_type": "markdown",
   "id": "a9a40ac7",
   "metadata": {},
   "source": [
    "<img src=\"../refs/Bloomberg synthetic forward answer.png\" />\n",
    "\n",
    "Reference: Bloomberg"
   ]
  },
  {
   "cell_type": "code",
   "execution_count": 1,
   "id": "0ed96016",
   "metadata": {},
   "outputs": [],
   "source": [
    "from datetime import datetime\n",
    "from datetime import date\n",
    "\n",
    "date_issue = date(2023,2,28)\n",
    "date_coupon = date(2023,8,31)\n",
    "date_now = date(2023,4,18)\n",
    "date_fwd = date(2023,8,1)\n",
    "\n",
    "days_cpn = (date_coupon - date_issue).days\n",
    "days_accint0 = (date_now - date_issue).days\n",
    "days_accint1 = (date_fwd - date_issue).days\n",
    "days_fwd = (date_fwd - date_now).days"
   ]
  },
  {
   "cell_type": "code",
   "execution_count": 2,
   "id": "0b93d6b0",
   "metadata": {},
   "outputs": [
    {
     "data": {
      "text/html": [
       "<style type=\"text/css\">\n",
       "</style>\n",
       "<table id=\"T_632d5\">\n",
       "  <thead>\n",
       "    <tr>\n",
       "      <th class=\"blank level0\" >&nbsp;</th>\n",
       "      <th id=\"T_632d5_level0_col0\" class=\"col_heading level0 col0\" >prices</th>\n",
       "      <th id=\"T_632d5_level0_col1\" class=\"col_heading level0 col1\" >carry</th>\n",
       "    </tr>\n",
       "  </thead>\n",
       "  <tbody>\n",
       "    <tr>\n",
       "      <th id=\"T_632d5_level0_row0\" class=\"row_heading level0 row0\" >spot</th>\n",
       "      <td id=\"T_632d5_row0_col0\" class=\"data row0 col0\" >102.0625</td>\n",
       "      <td id=\"T_632d5_row0_col1\" class=\"data row0 col1\" >4.0000</td>\n",
       "    </tr>\n",
       "    <tr>\n",
       "      <th id=\"T_632d5_level0_row1\" class=\"row_heading level0 row1\" >forward</th>\n",
       "      <td id=\"T_632d5_row1_col0\" class=\"data row1 col0\" >102.3725</td>\n",
       "      <td id=\"T_632d5_row1_col1\" class=\"data row1 col1\" >4.8500</td>\n",
       "    </tr>\n",
       "    <tr>\n",
       "      <th id=\"T_632d5_level0_row2\" class=\"row_heading level0 row2\" >difference</th>\n",
       "      <td id=\"T_632d5_row2_col0\" class=\"data row2 col0\" >-0.3100</td>\n",
       "      <td id=\"T_632d5_row2_col1\" class=\"data row2 col1\" >-0.2733</td>\n",
       "    </tr>\n",
       "  </tbody>\n",
       "</table>\n"
      ],
      "text/plain": [
       "<pandas.io.formats.style.Styler at 0x11d7f68e0>"
      ]
     },
     "execution_count": 2,
     "metadata": {},
     "output_type": "execute_result"
    }
   ],
   "source": [
    "import pandas as pd\n",
    "import numpy as np\n",
    "\n",
    "spot = 102+2/32\n",
    "repo = .0485\n",
    "cpn = .04\n",
    "face = 100\n",
    "\n",
    "accint0 = cpn*face/2 * (days_accint0 / days_cpn)\n",
    "accint1 = cpn*face/2 * (days_accint1 / days_cpn)\n",
    "\n",
    "fwd = (spot + accint0) * (1+repo * days_fwd/360) - accint1\n",
    "\n",
    "fwd_spot = pd.DataFrame({'prices':[spot, fwd], 'carry':face*np.array([cpn,repo])}, index=['spot','forward'])\n",
    "fwd_spot.loc['difference'] = [spot-fwd, (accint1-accint0) - face*(repo * days_fwd/360)]\n",
    "fwd_spot.style.format('{:.4f}')"
   ]
  },
  {
   "cell_type": "markdown",
   "id": "320cd35f",
   "metadata": {},
   "source": [
    "# Reminder on Forwards vs Futures"
   ]
  },
  {
   "cell_type": "markdown",
   "id": "df93a4aa",
   "metadata": {},
   "source": [
    "Futures are similar to forwards in terms of\n",
    "* pricing\n",
    "* hedging\n",
    "* uses\n",
    "\n",
    "Differ in key ways. Futures...\n",
    "* trade on exchanges, not OTC.\n",
    "* trade a standardized contract\n",
    "* have P&L accrue daily via daily settlement\n",
    "* require a maintenance margin\n",
    "\n",
    "Of these differences, a few consequences are worth highlighting.\n",
    "\n",
    "**Credit risk**\n",
    "* The exchange takes on the credit risk by intermediating both sides of the trade. And the maintenance margin means they have little credit risk. \n",
    "* However, this difference with forwards may be overstated, as recent regulation and practice has seen more forward agreements require intermediation and maintenance margins."
   ]
  },
  {
   "cell_type": "markdown",
   "id": "8e59f3c1",
   "metadata": {},
   "source": [
    "# Daily Settlement\n",
    "\n",
    "**Daily settlement**\n",
    "* The daily realization of P&L does not change the total P&L cashflows (relative to a forward).\n",
    "* It does change the timing. A classic result (FINM 33000?) notes that this creates a pricing impact.\n",
    "\n",
    "### Daily Settlement Reduces Bond Futures Price\n",
    "The negative correlation between rates and the futures (bond) price has a negative impact on the futures price.\n",
    "\n",
    "Long position in futures contract on bond\n",
    "* loses money when rate goes up (and loss is more expensive to finance) \n",
    "* gains when rate goes down, (and opportunity to invest profit is low.) \n",
    "* Thus, the daily settlement timing is unfavorable to long futures position in bonds. \n",
    "\n",
    "Futures price is less than forward price.\n",
    "* But this pricing effect is small for bond futures which are short-term relative to maturity of the bond.\n",
    "* And the short rate (repo) and long rates are not perfectly correlated."
   ]
  },
  {
   "cell_type": "markdown",
   "id": "51c08268",
   "metadata": {},
   "source": [
    "### Tailing the Hedge\n",
    "\n",
    "In practice, daily settlement is notable in how it impacts **hedging**.\n",
    "\n",
    "Let $\\pnl$ denote the daily (book) PnL on the future or forward position.\n",
    "\n",
    "If managing daily risk, note that position's (book) value changing $\\pnl$ impacts futures and forwards differently.\n",
    "* Futures value changes $\\pnl$ immediately due to daily settlement.\n",
    "* Forward value changes by present value of $\\pnl$, denoted $Z(t,T)\\pnl$ given that the P&L will not be realized until the forward term, $T$.\n",
    "\n",
    "Thus, the futures contract is more responsive to daily movements and requires a smaller position to hedge than a forward-based hedge.\n",
    "\n",
    "$$N_t^{\\text{fut}} = Z(t,T)N_t^{\\text{fwd}}$$\n",
    "\n",
    "This difference, (the reduced hedge position in futures,) is known as **tailing the hedge.**\n",
    "\n",
    "#### The Present Value Discount\n",
    "For a short-term futures, (less than a year,) typical to use the repo rate for calculating the present value discount, $Z(t,T)$, rather than the treasury curve:\n",
    "\n",
    "$$Z(t,T) = \\frac{1}{1+r^{\\text{repo}}(t,T)\\yearsACT}$$\n",
    "where $\\yearsACT$ is the forward interval measured in ACT/360 years."
   ]
  },
  {
   "cell_type": "markdown",
   "id": "2be43efb",
   "metadata": {},
   "source": [
    "***"
   ]
  },
  {
   "cell_type": "markdown",
   "id": "9d67fff8",
   "metadata": {},
   "source": [
    "# Bond Futures"
   ]
  },
  {
   "cell_type": "markdown",
   "id": "e07ed7b8",
   "metadata": {},
   "source": [
    "See the details for the most-traded bond futures contract: `TY`. \n",
    "* 10-year US Treasury note future\n",
    "* [CME volumes](https://www.cmegroup.com/market-data/browse-data/interest-rate-volume.html?redirect=/market-data/volume-open-interest/interest-rate-volume.html)\n",
    "\n",
    "[CBOT contract details](https://www.cmegroup.com/markets/interest-rates/us-treasury/10-year-us-treasury-note.contractSpecs.html)\n",
    "\n",
    "[Calendar for the future chain](https://www.cmegroup.com/markets/interest-rates/us-treasury/10-year-us-treasury-note.calendar.html)"
   ]
  },
  {
   "cell_type": "markdown",
   "id": "bd89c36c",
   "metadata": {},
   "source": [
    "<img src=\"../refs/CME_treasury_table.png\" />\n",
    "\n",
    "Reference: https://www.cmegroup.com/trading/interest-rates/basics-of-us-treasury-futures.html"
   ]
  },
  {
   "cell_type": "markdown",
   "id": "530b4b8e",
   "metadata": {},
   "source": [
    "## Delivery and Pricing\n",
    "\n",
    "Bond futures embed several options (to the short) with regard to delivering the underlying bond at expiration.\n",
    "* Quality\n",
    "* Timing\n",
    "* End-of-month\n",
    "* Wildcard\n",
    "\n",
    "We discuss these options further. For now, consider one aspect of the \"quality\" option.\n",
    "\n",
    "For example, the \"10\"-year futures contract contains optionality with regard to which treausury can be delivered.\n",
    "* Any US Treasury note with maturity between 6.5-10 years.\n",
    "* One reason for this is to prevent \"squeezes\", microstructure issues, etc.\n",
    "\n",
    "\n",
    "### Conversion factors\n",
    "Of course, the deliverable bonds differ in maturity and coupon, and thus range in value.\n",
    "\n",
    "To account for this, CBOT uses a **conversion factor** such that the futures price at delivery for bond $i$ is\n",
    "$$\\futpriceT\\convert^i$$\n",
    "\n",
    "These conversion factors are the value of the bond is the value using a flat YTM curve at 6\\%.\n",
    "\n",
    "Suppose bond $i$ has \n",
    "* coupon rate $\\cpn_i$\n",
    "* maturity $T_i$\n",
    "$$\\begin{align*}\n",
    "\\convert^{i} =& \\displaystyle\\sum_{j=1}^{2T_i}\\frac{\\cpn_i\\,/\\,2}{(1+.06/2)^j} + \\frac{1}{(1+.06/2)^{2T_i}}\\\\\n",
    "=& \\frac{\\cpn_i}{.06}\\left(1-\\frac{1}{(1+.06/2)^{2T_i}}\\right)+\\frac{1}{(1+.06/2)^{2T_i}}\n",
    "\\end{align*}$$ \n",
    "\n",
    "Note that these conversion factors are constant over the length of the futures contract. (Thus no need to subscript the conversion factor with $t$.)"
   ]
  },
  {
   "cell_type": "markdown",
   "id": "632bbcd9",
   "metadata": {},
   "source": [
    "### Delivery Cost\n",
    "\n",
    "For a short position, the cost to deliver bond $i$ to close out the futures contract is\n",
    "$$\\text{delivery cost}_T = (P_T^i + \\accint_T^i) - (\\convert^i\n",
    "\\futpriceT + \\accint_T^i) = P_T^i - \\convert^i\\futpriceT$$\n",
    "where\n",
    "* $\\accint$ denotes accrued interest.\n",
    "* $\\psi$ denotes the conversion factor for the bond.\n",
    "\n",
    "Note that accrued interest is received by the short delivering to close out the future.\n",
    "* Thus, accrued interest cancels and is not relevant for the delivery cost.\n",
    "\n",
    "### Cheapest to Deliver\n",
    "\n",
    "Of course, shorts are interested in minimizing delivery cost by selecting the best deliverable bond.\n",
    "\n",
    "Let $P_T^{\\ctd}$ denote the price of the **cheapest to deliver** bond.\n",
    "\n",
    "At expiration, no-arbitrage arguments require that the (converted) futures price converges at delivery:\n",
    "$$P_T^{\\ctd} = \\convert^{\\ctd}\\futpriceT$$\n",
    "\n",
    "Thus,\n",
    "$$\\futpriceT = \\frac{P_T^{\\ctd}}{\\convert^{\\ctd}} \\le \\frac{P_T^{i}}{\\convert^{i}}, \\forall i$$"
   ]
  },
  {
   "cell_type": "markdown",
   "id": "e6839d0f",
   "metadata": {},
   "source": [
    "<img src=\"../refs/treasury_futures_CTD.png\" />\n",
    "\n",
    "https://www.cmegroup.com/education/files/understanding-treasury-futures.pdf"
   ]
  },
  {
   "cell_type": "markdown",
   "id": "cba8b308",
   "metadata": {},
   "source": [
    "### Understanding CTD\n",
    "\n",
    "In a low-rate environment, (as much of 2008-2021,) which bonds tend to be CTD?\n",
    "\n",
    "Consider how CTD would change if the term structure of rates...\n",
    "* is flat at 6%.\n",
    "* steepens\n",
    "* flattens\n",
    "\n",
    "Why is the notional discount of 6% used for the CTD calculation?\n",
    "* Is this appropriate in rate environments far from 6%?\n",
    "* Does this lead to arbitrage? And if the notional discount were 10%?"
   ]
  },
  {
   "cell_type": "markdown",
   "id": "a6e9d55e",
   "metadata": {},
   "source": [
    "# Gross and Net Basis\n",
    "\n",
    "## The Basis Trade\n",
    "Being long the bond's basis means taking a position of\n",
    "* long a forward bond at $T$\n",
    "* sell the associated futures contract, adjusted for the conversion factor.\n",
    "\n",
    "Two important bond pricing measures refer to this trade:\n",
    "* **Gross basis** measures the basis trade where the bond is transacted spot. \n",
    "    * the trade includes carry of holding the bond.\n",
    "* **Net basis** measures the basis trade transacting the bond forward, \n",
    "    * thus forgoing the carry.\n",
    "\n",
    "Denote gross and net basis as $\\grossbasis$ and $\\netbasis$, respectively.\n",
    "$$\\begin{align*}\n",
    "\\underbrace{\\grossbasis_{t,t+h}^i}_{\\text{gross basis}}=&\\;  P_t^i - \\convert^i\\futprice\\\\[5pt]\n",
    "\\underbrace{\\netbasis_{t,t+h}^i}_{\\text{net basis}} =&\\; \\fwdprice^i - \\convert^i\\futprice\n",
    "\\end{align*}$$\n",
    "* where $\\pfwd^i(t,T)$ denotes the $T$-forward price of bond $i$ at time $t$.\n",
    "\n",
    "Thus, given that the forward drop equals the bond's carry, net basis can be seen as\n",
    "\n",
    "$$\\netbasis_{t,t+h}^i = \\grossbasis_{t,t+h}^i - \\carry_{t,t+h}^i$$"
   ]
  },
  {
   "cell_type": "markdown",
   "id": "4cd969be",
   "metadata": {},
   "source": [
    "### Convergence\n",
    "Note that according to the definitions above, \n",
    "* at expiration, $T$, gross basis and net basis are equal,\n",
    "$$\\grossbasis_T^{i} = \\netbasis_T^{i}$$\n",
    "* if a bond were guaranteed to be CTD, net basis for it would be zero\n",
    "* at expiration, $T$, the CTD bond has net basis of 0\n",
    "$$\\grossbasis_T^{\\ctd} = \\netbasis_T^{\\ctd} = 0$$\n",
    "\n",
    "### Importance of Net Basis\n",
    "Net basis is a widely quoted measure, partially due to the following two facts:\n",
    "\n",
    "1. The P&L on a **basis trade** is simply the change in net basis.\n",
    "$$\\begin{align*}\n",
    "\\pnl_{t,t+h}^i =& N \\left[\\fwdpriceDT^i -\\fwdprice^i\\right] - N\\convert^i\\left[\\futpriceDT-\\futprice\\right]\\\\[5pt]\n",
    "=& N\\left[\\netbasis_{t+h}^i - \\netbasis_t^i\\right]\n",
    "\\end{align*}$$\n",
    "\n",
    "2. The net basis can be seen as a measure of how close (likely) a bond is to being CTD.\n",
    "* Given the convergence noted above, one could view net basis as a function of the probability of the bond being CTD."
   ]
  },
  {
   "cell_type": "markdown",
   "id": "6138b8c6",
   "metadata": {},
   "source": [
    "## Two caveats\n",
    "\n",
    "### Daily Settlement\n",
    "The PnL of the basis trade is only approximate above.\n",
    "* The equations for gross and net basis are correct.\n",
    "* But they only approximate the pnl of the basis trade as they do not account for **daily settlement** of futures.\n",
    "\n",
    "Still, this makes a minor difference to the PnL in most circumstances. Furthermore, in terms of the net long-short position, it can be accounted for by setting the number of futures contracts to be adjusted for both\n",
    "* conversion factor, as noted above\n",
    "* tailing the hedge\n",
    "\n",
    "### Repo\n",
    "The trades above rely on the synthetic forward, which considers **term** repo--that is, a repo rate locked in for a term between $t$ and $T.\n",
    "\n",
    "The repo often quoted, (and sometimes used in this trade!) is **overnight** repo.\n",
    "* In that case, there is additional basis for overnight vs term repo.\n",
    "* PnL may diverge further."
   ]
  },
  {
   "cell_type": "markdown",
   "id": "47185aa2",
   "metadata": {},
   "source": [
    "## Implied Repo\n",
    "\n",
    "Another common metric in quoting bond prices is **implied repo**. \n",
    "* Gives the return to going long spot and shorting via futures (instead of forward).\n",
    "* Each bond has an implied repo, which assumes that particular bond will become CTD.\n",
    "* Thus, if implied repo is higher than actual repo, and the bond is sure to be CTD, then it indicates the future is overpriced.\n",
    "\n",
    "**Careful**\n",
    "This implied repo is assuming the bond becomes CTD!\n",
    "* A high / low implied repo may simply be impacted by the fact that bond is unlikely to become CTD.\n",
    "\n",
    "### Computing Implied Repo\n",
    "Solve for the repo rate that rationalizes the futres-as-forward trade.\n",
    "1. Assume the forward price is the futures price adjusted by the conversion factor.\n",
    "$$\\fwdprice^i = \\futprice^i\\convert^i$$\n",
    "\n",
    "2. Solve for repo rate such that this forward price fits the spot price:\n",
    "\n",
    "$$\\underbrace{\\fwdprice^i + \\accint^i_T}_{\\text{dirty forward}} = \\underbrace{\\left[P^i_t + \\accint_t^i\\right]}_{\\text{dirty spot}}\\left[1+r^i_{\\text{IR}}\\yearsACT\\right]$$\n",
    "where\n",
    "* $r^i_{\\text{IR}}$ denotes the implied repo rate of bond $i$\n",
    "* $\\yearsACT$ is the forward interval in years (measured by ACT/360).\n",
    "\n",
    "Thus we have $r^i_{\\text{IR}}$ as the rate which solves\n",
    "$$\\underbrace{\\futprice^i\\convert^i + \\accint^i_T}_{\\text{dirty future-as-forward}} = \\underbrace{\\left[P^i_t + \\accint_t^i\\right]}_{\\text{dirty spot}}\\left[1+r^i_{\\text{IR}}\\yearsACT\\right]$$\n",
    "so\n",
    "$$\\begin{align*}\n",
    "r^i_{\\text{IR}} =& \\frac{1}{\\yearsACT}\\left[\\frac{\\futprice^i\\convert^i + \\accint^i_T}{P^i_t + \\accint_t^i} - 1\\right]\\\\[5pt]\n",
    "=& \\frac{1}{\\yearsACT}\\frac{\\futprice^i\\convert^i - P^i_t + \\accint^i_T - \\accint_t^i}{P^i_t + \\accint_t^i}\n",
    "\\end{align*}$$\n",
    "\n",
    "This last expression clarifies that **implied repo can be seen as the (annualized) return** of a trading strategy which\n",
    "* goes long the bond in the spot market, at the dirty price\n",
    "* simultaneously sells the associated futures contract for term $t\\to T$.\n",
    "* at $T$, delivers the long bond position."
   ]
  },
  {
   "cell_type": "markdown",
   "id": "00b3347c",
   "metadata": {},
   "source": [
    "# Bond Options\n",
    "\n",
    "## Quality Option\n",
    "The **quality option** refers to the seller's optionality with regard to the CTD.\n",
    "\n",
    "If environment has _______ rates, then expect ________ duration bonds to be CTD.\n",
    "* low / low\n",
    "* high / high\n",
    "* mid / mid\n",
    "\n",
    "Calculating exactly the CTD requires using a derivatives pricing model.\n",
    "* our risk-neutral models on binomial trees are well suited to this task.\n",
    "\n",
    "Above we saw that terminal futures price is\n",
    "$$\\futpriceT = \\frac{P_T^{\\ctd}}{\\convert^{\\ctd}} \\le \\frac{P_T^{i}}{\\convert^{i}}, \\forall i$$\n",
    "\n",
    "But at $t$, there is uncertainty as to which bond will be CTD at $T$. Thus, we have the futures price as the lower envelope of price-conversion ratios at $T$, and strictly below that envelope at $t<T$ due to the value of this quality option.\n",
    "$$\\futprice < \\frac{P_t^{i}}{\\convert^{i}}, \\forall i$$\n",
    "\n",
    "We return later to using binomial trees to model the CTD and the futures price."
   ]
  },
  {
   "cell_type": "markdown",
   "id": "0f33d874",
   "metadata": {},
   "source": [
    "## Timing Options\n",
    "\n",
    "### Timing Option\n",
    "The seller can deliver any day of the delivery month.\n",
    "* If coupon is **higher** than repo, deliver as **late** as possible\n",
    "    * Collect carry\n",
    "    * Retain option value\n",
    "* If coupon is **lower** than repo, delivery is **ambigious**. Early delivery would\n",
    "    * eliminate negative carry\n",
    "    * eliminate option value\n",
    "\n",
    "    It is an quantitative issue whether forfeiting the option value is worth eliminating the negative carry.\n",
    "\n",
    "### End-of-Month Option\n",
    "Contract trading ends ~3 weeks into the month, but seller has another week to decide delivery.\n",
    "* Futures price is locked\n",
    "* Spot price continues to move\n",
    "* Possible that a different bond becomes CTD than the bond which set the futures price at last trade date.\n",
    "\n",
    "### Wildcard Option\n",
    "* Trading on the exchange settles at 2pm CT yet the shorts have a few more hours to decide whether to issue a notice of delivery.\n",
    "* Thus, a basis trade long the CTD and hedged with futures will consider a post-settlement rise in CTD price as a profit:\n",
    "    * seller might decide to deliver if the price of the CTD rises between the time the exchange settles to $F_t$ but before delivery notice is due.\n",
    "* This is like the timing option--a question of whether the moneyness outweighs the ongoing option value."
   ]
  }
 ],
 "metadata": {
  "kernelspec": {
   "display_name": "Python 3 (ipykernel)",
   "language": "python",
   "name": "python3"
  },
  "language_info": {
   "codemirror_mode": {
    "name": "ipython",
    "version": 3
   },
   "file_extension": ".py",
   "mimetype": "text/x-python",
   "name": "python",
   "nbconvert_exporter": "python",
   "pygments_lexer": "ipython3",
   "version": "3.9.6"
  }
 },
 "nbformat": 4,
 "nbformat_minor": 5
}
