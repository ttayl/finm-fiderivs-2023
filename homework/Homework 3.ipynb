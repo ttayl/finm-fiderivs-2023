{
 "cells": [
  {
   "cell_type": "markdown",
   "id": "0cc2bd13",
   "metadata": {},
   "source": [
    "# Homework 3\n",
    "\n",
    "## FINM 37500 - 2023\n",
    "\n",
    "### UChicago Financial Mathematics\n",
    "\n",
    "* Mark Hendricks\n",
    "* hendricks@uchicago.edu"
   ]
  },
  {
   "cell_type": "markdown",
   "id": "6e2fb29f",
   "metadata": {},
   "source": [
    "# 1. Treasury Futures and Cheapest-to-Deliver"
   ]
  },
  {
   "cell_type": "markdown",
   "id": "2a60e7f9",
   "metadata": {},
   "source": [
    "The file `data/fut_bond_data_FVU3_2023-04-21.xlsx` has market data on the following:\n",
    "* 5-year Treasury future, expiring September 2023\n",
    "* The specifications of the deliverable treasury bonds\n",
    "\n",
    "Market quotes are provided on the futures contract and the bond prices. These will be useful for some of the analysis questions, but you do not need them for your models as you are provided a BDT tree which is fit to swaps and caps. See below for more details on this BDT model.\n",
    "\n",
    "Suppose the present date is `2023-04-21`."
   ]
  },
  {
   "cell_type": "markdown",
   "id": "0bb00c98",
   "metadata": {},
   "source": [
    "### BDT Model\n",
    "\n",
    "In this problem you will make use of a BDT modeled binomial tree.\n",
    "\n",
    "To save you some time, you are provided the parameters of a BDT tree fit to both swaps and caps.\n",
    "* Use the file `bdt_params_freq52_2023-04-21.xlsx`\n",
    "* With these $\\sigma$ and $\\theta$ parameters, you should be able to build a BDT tree with $T=5$ and $dt=1/52$.\n",
    "\n",
    "#### Note\n",
    "If interested in how this was done, find the data and files used to get these parameters. In particular, \n",
    "* The market quotes interpolated to weekly frequency: `cap_curves_2023-04-21_freq_52.xlsx`.\n",
    "* The file to estimate the model is `Parameterize BDT.ipynb`."
   ]
  },
  {
   "cell_type": "markdown",
   "id": "835d7729",
   "metadata": {},
   "source": [
    "## 1.1 Trading Bonds\n",
    "\n",
    "Give brief answers to these based on the market quotes provided,\n",
    "### 1.1.1\n",
    "Calculate the \n",
    "* gross basis\n",
    "* carry\n",
    "* net basis for each bond\n",
    "\n",
    "### 1.1.2\n",
    "Which bond seems most likely to be CTD?\n",
    "\n",
    "### 1.1.3\n",
    "If you were required to put on a position today\n",
    "* long one of the bonds\n",
    "* short the future\n",
    "\n",
    "which would you choose based on the data provided in the spreadsheet?"
   ]
  },
  {
   "cell_type": "markdown",
   "id": "c3db48f7",
   "metadata": {},
   "source": [
    "## 1.2 Conversion Factors\n",
    "\n",
    "Calculate the conversion factor for each bond. Report it to `6` decimal places.\n",
    "\n",
    "Do they match the conversion factor provided by Bloomberg?"
   ]
  },
  {
   "cell_type": "markdown",
   "id": "2581bf68",
   "metadata": {},
   "source": [
    "## 1.3 BDT Tree\n",
    "\n",
    "Report the number of steps for\n",
    "* each bond's maturity\n",
    "* the futures contract expiration\n",
    "\n",
    "Build the interest-rate tree and display it."
   ]
  },
  {
   "cell_type": "markdown",
   "id": "356afd5d",
   "metadata": {},
   "source": [
    "## 1.4 Bond Pricing\n",
    "\n",
    "Use the tree to price each bond. Report\n",
    "* time-0 dirty and clean price of each bond\n",
    "* terminal (clean) value of each bond at futures expiration, for each state of the tree.\n",
    "\n",
    "Thus, to report the terminal values you will need to grab the expiration column of each bond's (clean) pricing tree and adjust (inflate) it for the conversion factor."
   ]
  },
  {
   "cell_type": "markdown",
   "id": "47343a10",
   "metadata": {},
   "source": [
    "## 1.5 CTD\n",
    "\n",
    "Use your terminal values calculated above to state which bond is CTD in each interest-rate state (at this expiration node.) \n",
    "\n",
    "Report the duration of each bond (as of today's price, not recomputed for the interest-rate nodes.) Do you see a relationship between the time-0 duration and the at-expiration CTD?"
   ]
  },
  {
   "cell_type": "markdown",
   "id": "e4e7ca12",
   "metadata": {},
   "source": [
    "## 1.6 Futures Price\n",
    "\n",
    "Model the futures price with the tree approach.\n",
    "* Use the CTD terminal value for each rate.\n",
    "* Step backward through the tree.\n",
    "\n",
    "As you step backward remember that for a futures contract\n",
    "* no discounting by the riskfree rate\n",
    "* the futures contract has no capital requirement and thus an expected P&L of zero under this measure.\n",
    "\n",
    "Thus, each node is the simple average of the two nodes at the following step.\n",
    "\n",
    "**Report the futures price.**\n",
    "\n",
    "### Compare\n",
    "How does it compare to \n",
    "* the quoted futures price\n",
    "* the modeled bond prices"
   ]
  },
  {
   "cell_type": "markdown",
   "id": "84f41b38",
   "metadata": {},
   "source": [
    "## 1.7 Early Delivery\n",
    "**Optional**\n",
    "Above we modeled the terminal value at the futures expiration. Now consider if early delivery would be better.\n",
    "\n",
    "Which periods in the tree are eligible to deliver based on the parameters of the 5-year futures contract? \n",
    "\n",
    "Based on your model, does it make sense to deliver early in any of the nodes of the tree?"
   ]
  },
  {
   "cell_type": "markdown",
   "id": "a84ea2bb",
   "metadata": {},
   "source": [
    "## 1.8 Option-Adjusted Spread\n",
    "**Optional**\n",
    "\n",
    "Calculate and report the option-adjusted spread (OAS) for the future.\n",
    "\n",
    "Note that you\n",
    "* do NOT need to recalculate the bond prices\n",
    "* will simply add a constant rate (at every node) for discounting the futures price in the previous problem.\n",
    "\n",
    "What does the OAS indicate?"
   ]
  },
  {
   "cell_type": "markdown",
   "id": "f5d58778",
   "metadata": {},
   "source": [
    "***"
   ]
  },
  {
   "cell_type": "markdown",
   "id": "5087714e",
   "metadata": {},
   "source": [
    "# 2. Fed Funds Futures"
   ]
  },
  {
   "cell_type": "markdown",
   "id": "dc84cd2f",
   "metadata": {},
   "source": [
    "The file `data/fedfutures_2023-04-21.xlsx`jj has market data on the following:\n",
    "* Fed Fund Futures Chain out 18 months.\n",
    "* Dates of upcoming Fed meetings (approximated in 2024.)\n",
    "* Spot Fed Funds data\n",
    "* Prices of the futures chain on a historic date.\n",
    "\n",
    "Suppose the present date is `2023-04-21`."
   ]
  },
  {
   "cell_type": "markdown",
   "id": "7aa00976",
   "metadata": {},
   "source": [
    "## 2.1 Chart the Fed Futures Rates\n",
    "\n",
    "Chart the Fed Funds curve at\n",
    "* the present date\n",
    "* the historic date\n",
    "\n",
    "Note that you are charting the implied Fed Funds Futures *rate*, not price.\n",
    "\n",
    "Comment on how today's **open interest** varies across the chain."
   ]
  },
  {
   "cell_type": "markdown",
   "id": "119aab7f",
   "metadata": {},
   "source": [
    "## 2.2 Extracting the Expected Path of Fed Funds Rates\n",
    "\n",
    "The Fed has a great deal of control over the Fed Funds Rate. We simplify by assuming the Fed \n",
    "* sets the rate exactly at its list of meeting dates.\n",
    "* does not change the rate betweeen meeting dates.\n",
    "\n",
    "Use the present data to calculate--and plot--the implied set of expected Fed Funds rates as of each meeting date.\n",
    "\n",
    "#### Note\n",
    "One (minor) assumption:\n",
    "* Consider months, $t$, where there is a meeting, but such that in month $t+1$ there is no meeting.\n",
    "* There will be two reasonable ways to extract the expected fed funds rate:\n",
    "    1. Use the futures rate from the $t+1$-contract\n",
    "    2. Calculate the implied rate for the remainder of month $t$, knowing the expected rate at the end of month $t+1$.\n",
    "* These are both reasonable and will likely not differ much.\n",
    "* Here, use the simpler method #1--that is, for months with no meeting in the following month, the calculation is very simple."
   ]
  },
  {
   "cell_type": "markdown",
   "id": "0fca0cab",
   "metadata": {},
   "source": [
    "## 2.3 Compare to the Historic Curve\n",
    "\n",
    "Use the price data in the historic tab to extract the expectations at the previous date.\n",
    "* Note that you do not need to \"bootstrap\" up from the historic date to the current date. \n",
    "* There was no meeting in the current month, so its futures price is enough to get started.\n",
    "\n",
    "Compare this to the answer in the previous problem, for the current data."
   ]
  },
  {
   "cell_type": "markdown",
   "id": "664df023",
   "metadata": {},
   "source": [
    "## 2.4 Analyzing the Expected Path\n",
    "\n",
    "These questions are both conceptual--no calculation required.\n",
    "\n",
    "### 2.4.1\n",
    "Conceptually, is the path extracted above the **expected path**? In what sense is it or is it not?\n",
    "\n",
    "### 2.4.2\n",
    "\n",
    "Probability Distributions\n",
    "\n",
    "The implied path above is not representative of any single actual path of Fed rates, which are typically changed by 25bps at a time.\n",
    "\n",
    "Conceptually, what would you need to make probability statements about the Fed moving rates up/down by 25bps on any given meeting date? For instance, as seen in the `probabilities` tab of the [CME FedWatch Tool](https://www.cmegroup.com/markets/interest-rates/cme-fedwatch-tool.html)?\n",
    "\n",
    "Do not quantitatively solve this--just a conceptual answer is fine."
   ]
  },
  {
   "cell_type": "markdown",
   "id": "02aa5077",
   "metadata": {},
   "source": [
    "***"
   ]
  }
 ],
 "metadata": {
  "kernelspec": {
   "display_name": "Python 3 (ipykernel)",
   "language": "python",
   "name": "python3"
  },
  "language_info": {
   "codemirror_mode": {
    "name": "ipython",
    "version": 3
   },
   "file_extension": ".py",
   "mimetype": "text/x-python",
   "name": "python",
   "nbconvert_exporter": "python",
   "pygments_lexer": "ipython3",
   "version": "3.9.6"
  }
 },
 "nbformat": 4,
 "nbformat_minor": 5
}
