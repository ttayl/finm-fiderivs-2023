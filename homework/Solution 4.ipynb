{
 "cells": [
  {
   "cell_type": "markdown",
   "id": "0cc2bd13",
   "metadata": {},
   "source": [
    "# Solution 4\n",
    "\n",
    "## FINM 37500 - 2023\n",
    "\n",
    "### UChicago Financial Mathematics\n",
    "\n",
    "* Mark Hendricks\n",
    "* hendricks@uchicago.edu"
   ]
  },
  {
   "cell_type": "markdown",
   "id": "6e2fb29f",
   "metadata": {},
   "source": [
    "# 1. Modeling the Volatility Smile"
   ]
  },
  {
   "cell_type": "markdown",
   "id": "2a60e7f9",
   "metadata": {},
   "source": [
    "## Swaption Vol Data\n",
    "\n",
    "The file `data/swaption_vol_data.xlsx` has market data on the implied volatility skews for swaptions. Note that it has several columns:\n",
    "* `expry`: expiration of the swaption\n",
    "* `tenor`: tenor of the underlying swap\n",
    "* `model`: the model by which the volatility is quoted. (All are Black.)\n",
    "* `-200`, `-100`, etc.: The strike listed as difference from ATM strike (bps). Note that ATM is considered to be the **forward swapa rate** which you can calculate.\n",
    "\n",
    "You will use a single row of this data.\n",
    "* date: `2023-05-01`\n",
    "* expiration: 1yr\n",
    "* tenor: 2yrs"
   ]
  },
  {
   "cell_type": "markdown",
   "id": "81135253",
   "metadata": {},
   "source": [
    "## Rate Data\n",
    "\n",
    "The file `data/cap_quotes_2023-05-01.xlsx` gives \n",
    "* SOFR swap rates, \n",
    "* their associated discount factors\n",
    "* their associated forward interest rates.\n",
    "\n",
    "You will not need the cap data (flat or forward vols) for this problem.\n",
    "* This cap data would be helpful in calibrating a binomial tree, but this problem focuses on Black's formula and SABR."
   ]
  },
  {
   "cell_type": "markdown",
   "id": "3d3bd70d",
   "metadata": {},
   "source": [
    "## The Swaption\n",
    "\n",
    "Consider the following swaption with the following features:\n",
    "* underlying is a fixed-for-floating (SOFR) swap\n",
    "* the underlying swap has annual payment frequency\n",
    "* as mentioned above, expiration is 1 year and tenor of the underlying swap is 2 years. Thus, a so-called 1x2 swaption where the underlying swap begins in 1 year from now and ends 3 years from now.\n",
    "* strike is ATM, namely, at the forward swap rate\n",
    "* this is a **payer** swaption, which gives the holder the option to **pay** the fixed swap rate and receive SOFR."
   ]
  },
  {
   "cell_type": "markdown",
   "id": "4bb9e7e7",
   "metadata": {},
   "source": [
    "# 1. Black's Formula for Swaptions\n",
    "\n",
    "Use Black's formula to price the swaption.\n",
    "\n",
    "This is done much as we used Black's formula for caps and caplets. Except...\n",
    "\n",
    "1. No need to worry about timing issues. \n",
    "    * The swaption expires at $T_o=1$ and that is also when the uncertainty is resolved. So use this value in the formula. \n",
    "    * Recall that for caplets, we had to use a period before the payment due to the deferred timing of the caplet's underlying and payoff.\n",
    "\n",
    "2. You only need to use Black's formula once.\n",
    "    * With caps, we had to use Black's formula repeatedly to price each caplet.\n",
    "    * A swaption is a single option. However, it involves (if exercised) multiple payments at different times. \n",
    "    "
   ]
  },
  {
   "cell_type": "markdown",
   "id": "ab5403ca",
   "metadata": {},
   "source": [
    "### Discount factor\n",
    "There is one important difference for pricing swaptions using Black's formula:\n",
    "* For other derivatives, (such as caplets,) we used the discount factor, $Z(0,T_o)$ in Black's formula to discount the option payoff.\n",
    "* For a swaption, we instead use the sum of discount factors corresponding to each swap payment:\n",
    "$$Z^{\\text{swap}}(0,T_o,T) \\equiv \\sum_{i=1}^mZ(0,T_i)$$\n",
    "where $T_i$ for $1\\le i \\le m$ denotes the swap payment dates.\n",
    "\n",
    "Thus, for the swaption with $T_o=1, T_s=2, T=3$ written on an **annually paying swap**, we have\n",
    "$$Z^{\\text{swap}}(0,T_o,T) = Z(0,2) + Z(0,3)$$"
   ]
  },
  {
   "cell_type": "markdown",
   "id": "b30455df",
   "metadata": {},
   "source": [
    "### Forward Swap Rate\n",
    "In Black's formula we need the **forward** on the underlying, not the underlying rate itself.\n",
    "* We need the **forward swap rate**, not the (spot) swap rate.\n",
    "\n",
    "The forward swap rate is calculated from spot swap rates (provided in the data) similarly to how we calculate forward interest rates from spot rates.\n",
    "\n",
    "$$\\newcommand{\\Tfwd}{T_{\\text{fwd}}}$$\n",
    "$$\\newcommand{\\fwdswap}{s(t,\\Tfwd,T)}$$\n",
    "$$\\fwdswap \\equiv n\\frac{Z(t,\\Tfwd)-Z(t,T)}{\\sum_{i=1}^mZ(t,T_i)}$$\n",
    "where \n",
    "* $Z$ denotes the usual discount factor.\n",
    "* $n$ is the frequency of the swap payments. (That is, $n=2$ for semiannual swaps, etc.)\n",
    "* $T_i$ for $1\\le i\\le m$ again denotes the time to each swap payment, with $T_m=T$."
   ]
  },
  {
   "cell_type": "markdown",
   "id": "bd1bc92e",
   "metadata": {},
   "source": [
    "## 1.1\n",
    "Calculate the forward swap rate for $\\Tfwd=1$ and $T=3$, noting that the 1x2 swaption has an underlying swap terminating 3 years from today, not 2 years from today.\n",
    "\n",
    "## 1.2\n",
    "Price the swaptions at the quoted implied volatilites and corresponding strikes, all using the just-calculated forward swap rate as the underlying.\n",
    "\n",
    "## 1.3\n",
    "To consider how the expiration and tenor matter, calculate the prices of a few other swaptions for comparison. \n",
    "* No need to get other implied vol quotes--just use the ATM implied vol you have for the 1x2 above. (Here we are just interested in how Black's formula changes with changes in tenor and expiration.\n",
    "* No need to calculate for all the strikes--just do the ATM strike.\n",
    "\n",
    "Alternate swaptions\n",
    "* The 3mo x 2yr swaption\n",
    "* The 1yr x 4yr swaption\n",
    "\n",
    "Report these values and compare to the price of the 1yr x 2yr swaption priced in the previous problem.\n",
    "\n",
    "(In the rest of the homework, we only focus on the 1yr x 2yr swaption. These alternate swaptions are not used further.)"
   ]
  },
  {
   "cell_type": "markdown",
   "id": "fde51829",
   "metadata": {},
   "source": [
    "# 2. SABR Volatility Modeling"
   ]
  },
  {
   "cell_type": "markdown",
   "id": "8f28dacf",
   "metadata": {},
   "source": [
    "Continue considering the 1y2y swaption described in the previous section.\n",
    "\n",
    "Use the quoted volatility skew to fit a SABR model.\n",
    "\n",
    "Throughout, parameterize, `beta=.75`.\n",
    "\n",
    "## 2.1\n",
    "Estimate $(\\alpha,\\rho,\\nu)$ via the SABR formula in W.5. Feel free to use the `sabr` function in `cmds/volskew.py`.\n",
    "\n",
    "Report the values of these parameters.\n",
    "\n",
    "## 2.2\n",
    "Create a grid of strikes of [.0025, .09], with grid spacing of 10bps, (.0010).\n",
    "\n",
    "Use the SABR model parameterized above to calculate the volatility for each of these strikes.\n",
    "\n",
    "Plot the SABR curve, and also include the market quotes in the plot.\n",
    "\n",
    "Conceptually, does the SABR curve fit these points well? Perfectly?\n",
    "\n",
    "## 2.3\n",
    "Suppose we want to price a 1y2y swaption but with a far out-of-the-money strike of 6\\%. \n",
    "\n",
    "Note that this strike is far outside the range for which we have market quotes, and even if we do have quotes, they likely are not liquid on a given day.\n",
    "\n",
    "Use the SABR vol at this 6\\% strike to price the swaption.\n",
    "\n",
    "\n",
    "## 2.4\n",
    "*Optional*\n",
    "\n",
    "Use the ATM implied volatility to fit $\\alpha$, (sometimes denoted $\\sigma_0$.) That is, for any choice of $(\\rho,\\nu)$, solve a quadratic equation to get $\\alpha$ as a function of those two parameters, along with $\\beta$, which is at its ad-hoc value.\n",
    "\n",
    "Recall that we have a simple relationship between ATM vol and $\\alpha$.\n",
    "$$\\sigma_\\text{ATM} = \\alpha\\frac{B}{F^{1-\\beta}}$$\n",
    "where $B$ is defined in W.5. It is a quadratic expression of $\\alpha$ along with $(\\beta,\\rho,\\nu)$.\n",
    "\n",
    "This decouples the optimization. We solve for $(\\rho,\\nu)$ and $\\alpha$ as a function of the other two parameters.\n",
    "\n",
    "Consider using the function `sabrATM` in `cmds/volskew.py`."
   ]
  },
  {
   "cell_type": "markdown",
   "id": "a11cd876",
   "metadata": {},
   "source": [
    "# 3. SABR and Risk Management"
   ]
  },
  {
   "cell_type": "markdown",
   "id": "9e840c97",
   "metadata": {},
   "source": [
    "We are considering May 1, 2023. The next two days the Board of Governors of the Federal Reserve met.\n",
    "\n",
    "We consider how an **increase** of 25bps in the underlying rate impacts the price of the 1y2y ATM swaption.\n",
    "\n",
    "Here, we are assuming that the Fed's decision\n",
    "* will impact the forward swap rate directly, one-for-one with the Fed Funds rate.\n",
    "* the shift happens on May 3, 2023.\n",
    "\n",
    "Of course, in reality, the Fed's decision\n",
    "* may price in early to some degree or not settle at the Fed's target\n",
    "* may not impact the forward swap rate the same as the Fed Funds rate. We would need to model how the discount curve changes and what that change (level, slope, curvature?) would do to the forward swap rate."
   ]
  },
  {
   "cell_type": "markdown",
   "id": "d670b2db",
   "metadata": {},
   "source": [
    "## 3.1\n",
    "\n",
    "Use Black's equation to re-price the 1y2y swaption with\n",
    "* the same ATM volatility\n",
    "* an underlying (forward swap) rate increased 25 bps.\n",
    "* the same time-to-maturities. (We should decrease these all by 2/365, but we focus here on the delta effects rather than the theta. And it would be a small impact anyone.)\n",
    "\n",
    "Report \n",
    "* the new price\n",
    "* the change in price divided by 25bps, (a numerical delta.)"
   ]
  },
  {
   "cell_type": "markdown",
   "id": "ec7c3417",
   "metadata": {},
   "source": [
    "## 3.2\n",
    "\n",
    "Now, we consider how the volatility may change with the underlying shift of 25bps.\n",
    "\n",
    "Using the same SABR parameters from 2.1, and the strike grid from 2.2, plot the new SABR curve accounting for the underlying rate shifting up 25bps."
   ]
  },
  {
   "cell_type": "markdown",
   "id": "679ac6d5",
   "metadata": {},
   "source": [
    "## 3.3\n",
    "\n",
    "Calculate the new volatility specifically for the pre-shift ATM strike.\n",
    "\n",
    "Use this in Black's formula similar to 3.1, where the only change is the volatility now reflects the shift in the underlying (not the strike).\n",
    "\n",
    "Report\n",
    "* the new price\n",
    "* the change in price divided by 25bps"
   ]
  },
  {
   "cell_type": "markdown",
   "id": "a00f001f",
   "metadata": {},
   "source": [
    "## 3.4\n",
    "\n",
    "How much different is the (dynamic) delta which accounts for the shift in volatility from the (static) delta in 3.1?"
   ]
  },
  {
   "cell_type": "markdown",
   "id": "710029a2",
   "metadata": {},
   "source": [
    "***"
   ]
  },
  {
   "cell_type": "markdown",
   "id": "a40bbaee",
   "metadata": {},
   "source": [
    "# **<span style=\"color:red\">Solutions</span>**"
   ]
  },
  {
   "cell_type": "code",
   "execution_count": 1,
   "id": "fd3a7a89",
   "metadata": {},
   "outputs": [],
   "source": [
    "import numpy as np\n",
    "import pandas as pd\n",
    "\n",
    "from datetime import date\n",
    "from datetime import datetime\n",
    "\n",
    "import sys\n",
    "sys.path.insert(0, '../cmds')\n",
    "from ficcvol import *\n",
    "from binomial import *\n",
    "from ratecurves import *\n",
    "from treasury_cmds import compound_rate\n",
    "from volskew import *"
   ]
  },
  {
   "cell_type": "code",
   "execution_count": 2,
   "id": "39f0b8fd",
   "metadata": {
    "scrolled": true
   },
   "outputs": [],
   "source": [
    "import datetime\n",
    "import warnings\n",
    "\n",
    "import matplotlib.pyplot as plt\n",
    "import seaborn as sns\n",
    "%matplotlib inline\n",
    "plt.rcParams['figure.figsize'] = (12,6)\n",
    "plt.rcParams['font.size'] = 15\n",
    "plt.rcParams['legend.fontsize'] = 13\n",
    "\n",
    "import matplotlib.ticker as mtick\n",
    "from matplotlib.ticker import (MultipleLocator,\n",
    "                               FormatStrFormatter,\n",
    "                               AutoMinorLocator)"
   ]
  },
  {
   "cell_type": "markdown",
   "id": "4f3fd63c",
   "metadata": {},
   "source": [
    "# **<span style=\"color:red\">Solution 1</span>**"
   ]
  },
  {
   "cell_type": "code",
   "execution_count": 3,
   "id": "661b6e87",
   "metadata": {},
   "outputs": [],
   "source": [
    "DATE = '2023-05-01'\n",
    "freqcurve = 4\n",
    "\n",
    "SWAP_TYPE = 'SOFR'\n",
    "QUOTE_STYLE = 'black'\n",
    "RELATIVE_STRIKE = 0\n",
    "\n",
    "expry = 1\n",
    "tenor = 2\n",
    "\n",
    "freqswap = 1\n",
    "isPayer=True\n",
    "N = 100"
   ]
  },
  {
   "cell_type": "code",
   "execution_count": 4,
   "id": "2628f199",
   "metadata": {},
   "outputs": [],
   "source": [
    "curves = pd.read_excel(f'../data/cap_curves_{DATE}.xlsx', sheet_name=f'rate curves {DATE}').set_index('tenor')\n",
    "\n",
    "Topt = expry\n",
    "Tswap = Topt+tenor\n",
    "\n",
    "fwdrate = curves['forwards'][Topt]\n",
    "\n",
    "fwdswap = calc_fwdswaprate(curves['discounts'], Topt, Tswap, freqswap=freqswap)"
   ]
  },
  {
   "cell_type": "markdown",
   "id": "fd86eb07",
   "metadata": {},
   "source": [
    "## **<span style=\"color:red\">1.1</span>**"
   ]
  },
  {
   "cell_type": "code",
   "execution_count": 5,
   "id": "69bd24d9",
   "metadata": {},
   "outputs": [
    {
     "data": {
      "text/plain": [
       "'The forward swap rate is 3.23%'"
      ]
     },
     "metadata": {},
     "output_type": "display_data"
    }
   ],
   "source": [
    "display(f'The forward swap rate is {fwdswap:.2%}')"
   ]
  },
  {
   "cell_type": "markdown",
   "id": "37b92bac",
   "metadata": {},
   "source": [
    "## **<span style=\"color:red\">1.2</span>**"
   ]
  },
  {
   "cell_type": "markdown",
   "id": "c000c8a4",
   "metadata": {},
   "source": [
    "### Import and Process Quoted Vols"
   ]
  },
  {
   "cell_type": "code",
   "execution_count": 6,
   "id": "879a6122",
   "metadata": {},
   "outputs": [],
   "source": [
    "voldata = pd.read_excel('../data/swaption_vol_data.xlsx')\n",
    "volquote = voldata.query(f'model==\"{QUOTE_STYLE}\"').query(f'reference==\"{SWAP_TYPE}\"').query(f'date==\"{DATE}\"')#.query(f'expiration==\"{expry}\"').query(f'tenor==\"{tenor}\"')\n",
    "idx = (volquote['expiration']==expry) & (volquote['tenor']==tenor)\n",
    "volquote = volquote.loc[idx]\n",
    "volquote.index = ['implied vol']\n",
    "\n",
    "strikerange = np.array(volquote.columns[-9:].tolist())\n",
    "vols = volquote[strikerange]\n",
    "vols /= 100\n",
    "strikes = fwdswap + strikerange/100/100\n",
    "idstrike = np.where(strikerange==RELATIVE_STRIKE)[0][0]\n",
    "\n",
    "idstrikeATM = np.where(strikerange==0)[0][0]\n",
    "\n",
    "if QUOTE_STYLE == 'normal':\n",
    "    vols /= 100 * fwdrate\n",
    "\n",
    "capvol = curves.loc[Topt,'fwd vols']\n",
    "\n",
    "strikeATM = strikes[idstrikeATM]\n",
    "volATM = vols.iloc[0,idstrikeATM]"
   ]
  },
  {
   "cell_type": "markdown",
   "id": "2c6c4e2d",
   "metadata": {},
   "source": [
    "### Use Black's Formula"
   ]
  },
  {
   "cell_type": "code",
   "execution_count": 7,
   "id": "7288b0f2",
   "metadata": {},
   "outputs": [
    {
     "data": {
      "text/html": [
       "<style type=\"text/css\">\n",
       "</style>\n",
       "<table id=\"T_47a30\">\n",
       "  <thead>\n",
       "    <tr>\n",
       "      <th class=\"blank level0\" >&nbsp;</th>\n",
       "      <th id=\"T_47a30_level0_col0\" class=\"col_heading level0 col0\" >-200</th>\n",
       "      <th id=\"T_47a30_level0_col1\" class=\"col_heading level0 col1\" >-100</th>\n",
       "      <th id=\"T_47a30_level0_col2\" class=\"col_heading level0 col2\" >-50</th>\n",
       "      <th id=\"T_47a30_level0_col3\" class=\"col_heading level0 col3\" >-25</th>\n",
       "      <th id=\"T_47a30_level0_col4\" class=\"col_heading level0 col4\" >0</th>\n",
       "      <th id=\"T_47a30_level0_col5\" class=\"col_heading level0 col5\" >25</th>\n",
       "      <th id=\"T_47a30_level0_col6\" class=\"col_heading level0 col6\" >50</th>\n",
       "      <th id=\"T_47a30_level0_col7\" class=\"col_heading level0 col7\" >100</th>\n",
       "      <th id=\"T_47a30_level0_col8\" class=\"col_heading level0 col8\" >200</th>\n",
       "    </tr>\n",
       "  </thead>\n",
       "  <tbody>\n",
       "    <tr>\n",
       "      <th id=\"T_47a30_level0_row0\" class=\"row_heading level0 row0\" >strike</th>\n",
       "      <td id=\"T_47a30_row0_col0\" class=\"data row0 col0\" >0.0123</td>\n",
       "      <td id=\"T_47a30_row0_col1\" class=\"data row0 col1\" >0.0223</td>\n",
       "      <td id=\"T_47a30_row0_col2\" class=\"data row0 col2\" >0.0273</td>\n",
       "      <td id=\"T_47a30_row0_col3\" class=\"data row0 col3\" >0.0298</td>\n",
       "      <td id=\"T_47a30_row0_col4\" class=\"data row0 col4\" >0.0323</td>\n",
       "      <td id=\"T_47a30_row0_col5\" class=\"data row0 col5\" >0.0348</td>\n",
       "      <td id=\"T_47a30_row0_col6\" class=\"data row0 col6\" >0.0373</td>\n",
       "      <td id=\"T_47a30_row0_col7\" class=\"data row0 col7\" >0.0423</td>\n",
       "      <td id=\"T_47a30_row0_col8\" class=\"data row0 col8\" >0.0523</td>\n",
       "    </tr>\n",
       "    <tr>\n",
       "      <th id=\"T_47a30_level0_row1\" class=\"row_heading level0 row1\" >implied vol</th>\n",
       "      <td id=\"T_47a30_row1_col0\" class=\"data row1 col0\" >0.8455</td>\n",
       "      <td id=\"T_47a30_row1_col1\" class=\"data row1 col1\" >0.6033</td>\n",
       "      <td id=\"T_47a30_row1_col2\" class=\"data row1 col2\" >0.5346</td>\n",
       "      <td id=\"T_47a30_row1_col3\" class=\"data row1 col3\" >0.5076</td>\n",
       "      <td id=\"T_47a30_row1_col4\" class=\"data row1 col4\" >0.4846</td>\n",
       "      <td id=\"T_47a30_row1_col5\" class=\"data row1 col5\" >0.4650</td>\n",
       "      <td id=\"T_47a30_row1_col6\" class=\"data row1 col6\" >0.4484</td>\n",
       "      <td id=\"T_47a30_row1_col7\" class=\"data row1 col7\" >0.4229</td>\n",
       "      <td id=\"T_47a30_row1_col8\" class=\"data row1 col8\" >0.3944</td>\n",
       "    </tr>\n",
       "    <tr>\n",
       "      <th id=\"T_47a30_level0_row2\" class=\"row_heading level0 row2\" >price</th>\n",
       "      <td id=\"T_47a30_row2_col0\" class=\"data row2 col0\" >3.8116</td>\n",
       "      <td id=\"T_47a30_row2_col1\" class=\"data row2 col1\" >2.2874</td>\n",
       "      <td id=\"T_47a30_row2_col2\" class=\"data row2 col2\" >1.6480</td>\n",
       "      <td id=\"T_47a30_row2_col3\" class=\"data row2 col3\" >1.3697</td>\n",
       "      <td id=\"T_47a30_row2_col4\" class=\"data row2 col4\" >1.1223</td>\n",
       "      <td id=\"T_47a30_row2_col5\" class=\"data row2 col5\" >0.9067</td>\n",
       "      <td id=\"T_47a30_row2_col6\" class=\"data row2 col6\" >0.7229</td>\n",
       "      <td id=\"T_47a30_row2_col7\" class=\"data row2 col7\" >0.4443</td>\n",
       "      <td id=\"T_47a30_row2_col8\" class=\"data row2 col8\" >0.1557</td>\n",
       "    </tr>\n",
       "  </tbody>\n",
       "</table>\n"
      ],
      "text/plain": [
       "<pandas.io.formats.style.Styler at 0x29cbb14f0>"
      ]
     },
     "execution_count": 7,
     "metadata": {},
     "output_type": "execute_result"
    }
   ],
   "source": [
    "period_fwd = curves.index.get_loc(Topt)\n",
    "period_swap = curves.index.get_loc(Tswap)+1\n",
    "step = round(freqcurve/freqswap)\n",
    "\n",
    "discount = curves['discounts'].iloc[period_fwd+step : period_swap : step].sum()/freqswap\n",
    "blacks_quotes = vols.copy()\n",
    "blacks_quotes.loc['price'] = N * blacks_formula(Topt,vols,strikes,fwdswap,discount,isCall=isPayer)[0]\n",
    "blacks_quotes.loc['strike'] = strikes\n",
    "blacks_quotes = blacks_quotes.loc[['strike','implied vol','price']]\n",
    "\n",
    "blacks_quotes.style.format('{:.4f}')"
   ]
  },
  {
   "cell_type": "markdown",
   "id": "c1457a2c",
   "metadata": {},
   "source": [
    "## **<span style=\"color:red\">1.3</span>**"
   ]
  },
  {
   "cell_type": "code",
   "execution_count": 8,
   "id": "da731706",
   "metadata": {},
   "outputs": [
    {
     "data": {
      "text/html": [
       "<style type=\"text/css\">\n",
       "#T_f1a91_row1_col0, #T_f1a91_row1_col1, #T_f1a91_row1_col2 {\n",
       "  background-color: yellow;\n",
       "}\n",
       "</style>\n",
       "<table id=\"T_f1a91\">\n",
       "  <thead>\n",
       "    <tr>\n",
       "      <th class=\"blank level0\" >&nbsp;</th>\n",
       "      <th id=\"T_f1a91_level0_col0\" class=\"col_heading level0 col0\" >expiry</th>\n",
       "      <th id=\"T_f1a91_level0_col1\" class=\"col_heading level0 col1\" >tenor</th>\n",
       "      <th id=\"T_f1a91_level0_col2\" class=\"col_heading level0 col2\" >price</th>\n",
       "    </tr>\n",
       "  </thead>\n",
       "  <tbody>\n",
       "    <tr>\n",
       "      <th id=\"T_f1a91_level0_row0\" class=\"row_heading level0 row0\" >0</th>\n",
       "      <td id=\"T_f1a91_row0_col0\" class=\"data row0 col0\" >0.25</td>\n",
       "      <td id=\"T_f1a91_row0_col1\" class=\"data row0 col1\" >2.00</td>\n",
       "      <td id=\"T_f1a91_row0_col2\" class=\"data row0 col2\" >0.5787</td>\n",
       "    </tr>\n",
       "    <tr>\n",
       "      <th id=\"T_f1a91_level0_row1\" class=\"row_heading level0 row1\" >1</th>\n",
       "      <td id=\"T_f1a91_row1_col0\" class=\"data row1 col0\" >1.00</td>\n",
       "      <td id=\"T_f1a91_row1_col1\" class=\"data row1 col1\" >2.00</td>\n",
       "      <td id=\"T_f1a91_row1_col2\" class=\"data row1 col2\" >1.1223</td>\n",
       "    </tr>\n",
       "    <tr>\n",
       "      <th id=\"T_f1a91_level0_row2\" class=\"row_heading level0 row2\" >2</th>\n",
       "      <td id=\"T_f1a91_row2_col0\" class=\"data row2 col0\" >1.00</td>\n",
       "      <td id=\"T_f1a91_row2_col1\" class=\"data row2 col1\" >4.00</td>\n",
       "      <td id=\"T_f1a91_row2_col2\" class=\"data row2 col2\" >2.1801</td>\n",
       "    </tr>\n",
       "  </tbody>\n",
       "</table>\n"
      ],
      "text/plain": [
       "<pandas.io.formats.style.Styler at 0x29cda41f0>"
      ]
     },
     "execution_count": 8,
     "metadata": {},
     "output_type": "execute_result"
    }
   ],
   "source": [
    "expiries = [.25,1,1]\n",
    "tenors = [2,2,4]\n",
    "fwdswaps = np.full(len(expiries),np.nan)\n",
    "\n",
    "blacks_quotes_alt = pd.DataFrame(dtype=float,columns=['expiry','tenor','price'])\n",
    "    \n",
    "for i in range(len(fwdswaps)):\n",
    "    fwdswaps[i] = calc_fwdswaprate(curves['discounts'], expiries[i], expiries[i]+tenors[i], freqswap=freqswap)\n",
    "    \n",
    "    period0 = curves.index.get_loc(expiries[i])\n",
    "    period1 = curves.index.get_loc(expiries[i]+tenors[i])+1\n",
    "    step_i = round(freqcurve/freqswap)\n",
    "\n",
    "    discount_i = curves['discounts'].iloc[period0+step_i : period1 : step_i].sum()/freqswap\n",
    "\n",
    "    blacks_quotes_alt.loc[i,['expiry','tenor']] = [expiries[i],tenors[i]]\n",
    "    blacks_quotes_alt.loc[i,'price'] = N * blacks_formula(expiries[i],volATM,strikeATM,fwdswap,discount_i,isCall=isPayer)\n",
    "\n",
    "    \n",
    "def highlight_row(row):\n",
    "    if row.name == 1:\n",
    "        return ['background-color: yellow'] * len(row)\n",
    "    else:\n",
    "        return [''] * len(row)\n",
    "    \n",
    "blacks_quotes_alt.style.apply(highlight_row,axis=1).format({'expiry':'{:.2f}', 'tenor':'{:.2f}', 'price':'{:.4f}'})"
   ]
  },
  {
   "cell_type": "markdown",
   "id": "1ad12524",
   "metadata": {},
   "source": [
    "# **<span style=\"color:red\">Solution 2</span>**"
   ]
  },
  {
   "cell_type": "code",
   "execution_count": 9,
   "id": "ff9b332b",
   "metadata": {},
   "outputs": [],
   "source": [
    "def obj_fun(xargs):\n",
    "    nu = xargs[0]\n",
    "    rho = xargs[1]\n",
    "    alpha = xargs[2]\n",
    "    \n",
    "    ivolSABR = np.zeros(len(strikes))\n",
    "    \n",
    "    for i,strike in enumerate(strikes):\n",
    "         ivolSABR[i] = sabr(BETA,nu,rho,alpha,F,strike,Topt)\n",
    "    \n",
    "    error = ((ivolSABR - vols.values)**2).sum()\n",
    "    \n",
    "    return error\n",
    "\n",
    "\n",
    "def obj_fun_slim(xargs):\n",
    "    nu = xargs[0]\n",
    "    rho = xargs[1]\n",
    "    ivolSABR = np.zeros(len(strikes))\n",
    "    \n",
    "    for i,strike in enumerate(strikes):\n",
    "         ivolSABR[i] = sabr_slim(BETA,nu,rho,F,strike,Topt,volATM)\n",
    "    \n",
    "    error = ((ivolSABR - vols.values)**2).sum()\n",
    "    \n",
    "    return error"
   ]
  },
  {
   "cell_type": "code",
   "execution_count": 10,
   "id": "295989f3",
   "metadata": {},
   "outputs": [],
   "source": [
    "doSLIM = False\n",
    "BETA = 0.75\n",
    "F = fwdswap-1e-8"
   ]
  },
  {
   "cell_type": "code",
   "execution_count": 11,
   "id": "a498dd70",
   "metadata": {},
   "outputs": [],
   "source": [
    "if not doSLIM:\n",
    "    x0 = np.array([.6,0,.1])\n",
    "    fun = obj_fun\n",
    "else:\n",
    "    fun = obj_fun_slim\n",
    "    x0 = np.array([.6,0,.1])\n",
    "\n",
    "optim = minimize(fun,x0)\n",
    "xstar = optim.x\n",
    "nustar = xstar[0]\n",
    "rhostar = xstar[1]\n",
    "   \n",
    "if doSLIM:\n",
    "    alphastar = solve_alpha(BETA,nustar,rhostar,Topt,volATM,F)\n",
    "    ivolSABR = sabr_slim(BETA,nustar,rhostar,F,strikes,Topt,volATM)\n",
    "else:\n",
    "    alphastar = xstar[2]\n",
    "    ivolSABR = sabr(BETA,nustar,rhostar,alphastar,F,strikes,Topt)\n",
    "    \n",
    "error = optim.fun"
   ]
  },
  {
   "cell_type": "markdown",
   "id": "64ffd849",
   "metadata": {},
   "source": [
    "## **<span style=\"color:red\">2.1</span>**"
   ]
  },
  {
   "cell_type": "code",
   "execution_count": 12,
   "id": "9397a23e",
   "metadata": {},
   "outputs": [
    {
     "data": {
      "text/html": [
       "<style type=\"text/css\">\n",
       "</style>\n",
       "<table id=\"T_1a4ec\">\n",
       "  <thead>\n",
       "    <tr>\n",
       "      <th class=\"blank level0\" >&nbsp;</th>\n",
       "      <th id=\"T_1a4ec_level0_col0\" class=\"col_heading level0 col0\" >SABR Parameters</th>\n",
       "    </tr>\n",
       "  </thead>\n",
       "  <tbody>\n",
       "    <tr>\n",
       "      <th id=\"T_1a4ec_level0_row0\" class=\"row_heading level0 row0\" >beta ($\\beta$)</th>\n",
       "      <td id=\"T_1a4ec_row0_col0\" class=\"data row0 col0\" >0.7500</td>\n",
       "    </tr>\n",
       "    <tr>\n",
       "      <th id=\"T_1a4ec_level0_row1\" class=\"row_heading level0 row1\" >alpha ($\\alpha$)</th>\n",
       "      <td id=\"T_1a4ec_row1_col0\" class=\"data row1 col0\" >0.2061</td>\n",
       "    </tr>\n",
       "    <tr>\n",
       "      <th id=\"T_1a4ec_level0_row2\" class=\"row_heading level0 row2\" >nu ($\\nu$)</th>\n",
       "      <td id=\"T_1a4ec_row2_col0\" class=\"data row2 col0\" >0.9649</td>\n",
       "    </tr>\n",
       "    <tr>\n",
       "      <th id=\"T_1a4ec_level0_row3\" class=\"row_heading level0 row3\" >rho ($\\rho$)</th>\n",
       "      <td id=\"T_1a4ec_row3_col0\" class=\"data row3 col0\" >-0.5517</td>\n",
       "    </tr>\n",
       "    <tr>\n",
       "      <th id=\"T_1a4ec_level0_row4\" class=\"row_heading level0 row4\" >fit error</th>\n",
       "      <td id=\"T_1a4ec_row4_col0\" class=\"data row4 col0\" >0.0005</td>\n",
       "    </tr>\n",
       "  </tbody>\n",
       "</table>\n"
      ],
      "text/plain": [
       "<pandas.io.formats.style.Styler at 0x29cdbe2b0>"
      ]
     },
     "execution_count": 12,
     "metadata": {},
     "output_type": "execute_result"
    }
   ],
   "source": [
    "param = pd.DataFrame([BETA,alphastar,nustar,rhostar,error],index=['beta ($\\\\beta$)','alpha ($\\\\alpha$)','nu ($\\\\nu$)','rho ($\\\\rho$)','fit error'],columns=['SABR Parameters']).style.format('{:.4f}')\n",
    "param"
   ]
  },
  {
   "cell_type": "markdown",
   "id": "c4f835f0",
   "metadata": {},
   "source": [
    "## **<span style=\"color:red\">2.2</span>**"
   ]
  },
  {
   "cell_type": "code",
   "execution_count": 13,
   "id": "bc601b3d",
   "metadata": {},
   "outputs": [
    {
     "data": {
      "image/png": "[encoded data removed]",
      "text/plain": [
       "<Figure size 1200x600 with 1 Axes>"
      ]
     },
     "metadata": {},
     "output_type": "display_data"
    }
   ],
   "source": [
    "strikegrid = np.arange(.0025,.09,.0005)\n",
    "if doSLIM:\n",
    "    ivolgrid = sabr_slim(BETA,nustar,rhostar,F,strikegrid,Topt,volATM)\n",
    "else:\n",
    "    ivolgrid = sabr(BETA,nustar,rhostar,alphastar,F,strikegrid,Topt)\n",
    "    \n",
    "sabrcurve = pd.DataFrame(ivolgrid,index=strikegrid,columns=['SABR'])\n",
    "\n",
    "volquotes = vols.copy()\n",
    "volquotes.loc['strike'] = strikes\n",
    "volquotes = volquotes.T.set_index('strike').rename(columns={'implied vol':'market quotes'})\n",
    "\n",
    "fig, ax = plt.subplots()\n",
    "sabrcurve.plot(ax=ax)\n",
    "volquotes.plot(linestyle='',marker='o',markersize=8,ax=ax)\n",
    "plt.legend();"
   ]
  },
  {
   "cell_type": "markdown",
   "id": "908b433d",
   "metadata": {},
   "source": [
    "## **<span style=\"color:red\">2.3</span>**"
   ]
  },
  {
   "cell_type": "code",
   "execution_count": 14,
   "id": "6883d284",
   "metadata": {},
   "outputs": [
    {
     "data": {
      "text/plain": [
       "'Price of the OTM swaption at strike 6.00% is $0.0925.'"
      ]
     },
     "metadata": {},
     "output_type": "display_data"
    }
   ],
   "source": [
    "NEWSTRIKE = .06\n",
    "if doSLIM:\n",
    "    newvol = sabr_slim(BETA,nustar,rhostar,F,NEWSTRIKE,Topt,volATM)\n",
    "else:\n",
    "    newvol = sabr(BETA,nustar,rhostar,alphastar,F,NEWSTRIKE,Topt)\n",
    "\n",
    "newprice = N * blacks_formula(Topt,newvol,NEWSTRIKE,fwdswap,discount,isCall=isPayer)\n",
    "display(f'Price of the OTM swaption at strike {NEWSTRIKE:.2%} is ${newprice:.4f}.')"
   ]
  },
  {
   "cell_type": "markdown",
   "id": "ab6b3c9f",
   "metadata": {},
   "source": [
    "## **<span style=\"color:red\">2.4</span>**\n",
    "\n",
    "Set the parameter `doSLIM` to `True`, and rerun the code."
   ]
  },
  {
   "cell_type": "markdown",
   "id": "766d007c",
   "metadata": {},
   "source": [
    "# **<span style=\"color:red\">Solution 3</span>**"
   ]
  },
  {
   "cell_type": "markdown",
   "id": "0f850277",
   "metadata": {},
   "source": [
    "## **<span style=\"color:red\">3.1</span>**"
   ]
  },
  {
   "cell_type": "code",
   "execution_count": 15,
   "id": "f03a2fa9",
   "metadata": {},
   "outputs": [
    {
     "data": {
      "image/png": "[encoded data removed]",
      "text/plain": [
       "<Figure size 1200x600 with 1 Axes>"
      ]
     },
     "metadata": {},
     "output_type": "display_data"
    }
   ],
   "source": [
    "warnings.filterwarnings('ignore')\n",
    "\n",
    "SHIFT = 25/100/100\n",
    "\n",
    "sabrcurve.rename(columns={'SABR':f'SABR: underlying at {DATE}'},inplace=True)\n",
    "if doSLIM:\n",
    "    sabrcurve[f'SABR: underlying + {SHIFT*100*100:.0f}bps'] = sabr_slim(BETA,nustar,rhostar,F+SHIFT,strikegrid,Topt,volATM)\n",
    "else:\n",
    "    sabrcurve[f'SABR: underlying + {SHIFT*100*100:.0f}bps'] = sabr(BETA,nustar,rhostar,alphastar,F+SHIFT,strikegrid,Topt)\n",
    "\n",
    "fig, ax = plt.subplots()\n",
    "sabrcurve.plot(ax=ax)\n",
    "plt.xlim([F-.005,F+.005])\n",
    "plt.ylim([volATM-.05,volATM+.05])\n",
    "plt.axvline(F,color='k',linestyle='--',label=f'underlying at {DATE}')\n",
    "plt.axvline(F+SHIFT,color='k',linestyle=':',label=f'underlying + {SHIFT*100*100:.0f}bps')\n",
    "plt.ylabel('swaption implied volatility');\n",
    "plt.xlabel('strike')\n",
    "plt.legend();"
   ]
  },
  {
   "cell_type": "markdown",
   "id": "ac78eea2",
   "metadata": {},
   "source": [
    "## **<span style=\"color:red\">3.2, 3.3, 3.4</span>**"
   ]
  },
  {
   "cell_type": "code",
   "execution_count": 16,
   "id": "2bca5afb",
   "metadata": {},
   "outputs": [],
   "source": [
    "idloc = (sabrcurve.index.to_series()-fwdswap).abs().idxmin()\n",
    "\n",
    "newvols = sabrcurve.loc[idloc]\n",
    "strikeATM = strikes[idstrikeATM]\n",
    "\n",
    "Frange = F + [0,SHIFT]"
   ]
  },
  {
   "cell_type": "code",
   "execution_count": 17,
   "id": "252c3cca",
   "metadata": {},
   "outputs": [
    {
     "data": {
      "text/html": [
       "<style type=\"text/css\">\n",
       "</style>\n",
       "<table id=\"T_041b3\">\n",
       "  <thead>\n",
       "    <tr>\n",
       "      <th class=\"blank level0\" >&nbsp;</th>\n",
       "      <th id=\"T_041b3_level0_col0\" class=\"col_heading level0 col0\" >2023-05-01</th>\n",
       "      <th id=\"T_041b3_level0_col1\" class=\"col_heading level0 col1\" >shift</th>\n",
       "    </tr>\n",
       "  </thead>\n",
       "  <tbody>\n",
       "    <tr>\n",
       "      <th id=\"T_041b3_level0_row0\" class=\"row_heading level0 row0\" >static</th>\n",
       "      <td id=\"T_041b3_row0_col0\" class=\"data row0 col0\" >1.12</td>\n",
       "      <td id=\"T_041b3_row0_col1\" class=\"data row0 col1\" >1.40</td>\n",
       "    </tr>\n",
       "    <tr>\n",
       "      <th id=\"T_041b3_level0_row1\" class=\"row_heading level0 row1\" >dynamic</th>\n",
       "      <td id=\"T_041b3_row1_col0\" class=\"data row1 col0\" >1.12</td>\n",
       "      <td id=\"T_041b3_row1_col1\" class=\"data row1 col1\" >1.43</td>\n",
       "    </tr>\n",
       "  </tbody>\n",
       "</table>\n"
      ],
      "text/plain": [
       "<pandas.io.formats.style.Styler at 0x29cf23820>"
      ]
     },
     "execution_count": 17,
     "metadata": {},
     "output_type": "execute_result"
    }
   ],
   "source": [
    "period_fwd = curves.index.get_loc(Topt)\n",
    "period_swap = curves.index.get_loc(Tswap)+1\n",
    "step = round(freqcurve/freqswap)\n",
    "\n",
    "discount = curves['discounts'].iloc[period_fwd+step : period_swap : step].sum()/freqswap\n",
    "\n",
    "blackprices = pd.Series(N * blacks_formula(Topt-np.array([0,1/365]), newvols[0],strikeATM,Frange,discount,isCall=isPayer), index=[DATE,'shift'], name='static').to_frame().T\n",
    "blackprices.loc['dynamic'] = N * blacks_formula(Topt-np.array([0,1/365]), newvols,strikeATM,Frange,discount,isCall=isPayer)\n",
    "blackprices.style.format('{:.2f}')"
   ]
  },
  {
   "cell_type": "code",
   "execution_count": 18,
   "id": "bec9c298",
   "metadata": {},
   "outputs": [
    {
     "data": {
      "text/html": [
       "<style type=\"text/css\">\n",
       "</style>\n",
       "<table id=\"T_315ba\">\n",
       "  <thead>\n",
       "    <tr>\n",
       "      <th class=\"blank level0\" >&nbsp;</th>\n",
       "      <th id=\"T_315ba_level0_col0\" class=\"col_heading level0 col0\" >delta</th>\n",
       "    </tr>\n",
       "  </thead>\n",
       "  <tbody>\n",
       "    <tr>\n",
       "      <th id=\"T_315ba_level0_row0\" class=\"row_heading level0 row0\" >static</th>\n",
       "      <td id=\"T_315ba_row0_col0\" class=\"data row0 col0\" >112.82</td>\n",
       "    </tr>\n",
       "    <tr>\n",
       "      <th id=\"T_315ba_level0_row1\" class=\"row_heading level0 row1\" >dynamic</th>\n",
       "      <td id=\"T_315ba_row1_col0\" class=\"data row1 col0\" >127.87</td>\n",
       "    </tr>\n",
       "  </tbody>\n",
       "</table>\n"
      ],
      "text/plain": [
       "<pandas.io.formats.style.Styler at 0x29d029f40>"
      ]
     },
     "execution_count": 18,
     "metadata": {},
     "output_type": "execute_result"
    }
   ],
   "source": [
    "delta = (blackprices.diff(axis=1) / SHIFT)['shift'].rename('delta')\n",
    "delta.to_frame().style.format('{:.2f}')"
   ]
  },
  {
   "cell_type": "code",
   "execution_count": 19,
   "id": "51a8896f",
   "metadata": {},
   "outputs": [
    {
     "data": {
      "text/plain": [
       "'Relative change to delta: 13.34%.'"
      ]
     },
     "metadata": {},
     "output_type": "display_data"
    }
   ],
   "source": [
    "delta_relative_change = delta.pct_change().loc['dynamic']\n",
    "display(f'Relative change to delta: {delta_relative_change:.2%}.')"
   ]
  }
 ],
 "metadata": {
  "kernelspec": {
   "display_name": "Python 3 (ipykernel)",
   "language": "python",
   "name": "python3"
  },
  "language_info": {
   "codemirror_mode": {
    "name": "ipython",
    "version": 3
   },
   "file_extension": ".py",
   "mimetype": "text/x-python",
   "name": "python",
   "nbconvert_exporter": "python",
   "pygments_lexer": "ipython3",
   "version": "3.9.6"
  }
 },
 "nbformat": 4,
 "nbformat_minor": 5
}
