{
 "cells": [
  {
   "cell_type": "markdown",
   "id": "0cc2bd13",
   "metadata": {},
   "source": [
    "# Homework 4\n",
    "\n",
    "## FINM 37500 - 2023\n",
    "\n",
    "### UChicago Financial Mathematics\n",
    "\n",
    "* Mark Hendricks\n",
    "* hendricks@uchicago.edu"
   ]
  },
  {
   "cell_type": "markdown",
   "id": "6e2fb29f",
   "metadata": {},
   "source": [
    "# 1. Modeling the Volatility Smile"
   ]
  },
  {
   "cell_type": "markdown",
   "id": "2a60e7f9",
   "metadata": {},
   "source": [
    "## Swaption Vol Data\n",
    "\n",
    "The file `data/swaption_vol_data.xlsx` has market data on the implied volatility skews for swaptions. Note that it has several columns:\n",
    "* `expry`: expiration of the swaption\n",
    "* `tenor`: tenor of the underlying swap\n",
    "* `model`: the model by which the volatility is quoted. (All are Black.)\n",
    "* `-200`, `-100`, etc.: The strike listed as difference from ATM strike (bps). Note that ATM is considered to be the **forward swapa rate** which you can calculate.\n",
    "\n",
    "You will use a single row of this data.\n",
    "* date: `2023-05-01`\n",
    "* expiration: 1yr\n",
    "* tenor: 2yrs"
   ]
  },
  {
   "cell_type": "markdown",
   "id": "81135253",
   "metadata": {},
   "source": [
    "## Rate Data\n",
    "\n",
    "The file `data/cap_quotes_2023-05-01.xlsx` gives \n",
    "* SOFR swap rates, \n",
    "* their associated discount factors\n",
    "* their associated forward interest rates.\n",
    "\n",
    "You will not need the cap data (flat or forward vols) for this problem.\n",
    "* This cap data would be helpful in calibrating a binomial tree, but this problem focuses on Black's formula and SABR."
   ]
  },
  {
   "cell_type": "markdown",
   "id": "3d3bd70d",
   "metadata": {},
   "source": [
    "## The Swaption\n",
    "\n",
    "Consider the following swaption with the following features:\n",
    "* underlying is a fixed-for-floating (SOFR) swap\n",
    "* the underlying swap has annual payment frequency\n",
    "* as mentioned above, expiration is 1 year and tenor of the underlying swap is 2 years. Thus, a so-called 1x2 swaption where the underlying swap begins in 1 year from now and ends 3 years from now.\n",
    "* strike is ATM, namely, at the forward swap rate\n",
    "* this is a **payer** swaption, which gives the holder the option to **pay** the fixed swap rate and receive SOFR."
   ]
  },
  {
   "cell_type": "markdown",
   "id": "4bb9e7e7",
   "metadata": {},
   "source": [
    "# 1. Black's Formula for Swaptions\n",
    "\n",
    "Use Black's formula to price the swaption.\n",
    "\n",
    "This is done much as we used Black's formula for caps and caplets. Except...\n",
    "\n",
    "1. No need to worry about timing issues. \n",
    "    * The swaption expires at $T_o=1$ and that is also when the uncertainty is resolved. So use this value in the formula. \n",
    "    * Recall that for caplets, we had to use a period before the payment due to the deferred timing of the caplet's underlying and payoff.\n",
    "\n",
    "2. You only need to use Black's formula once.\n",
    "    * With caps, we had to use Black's formula repeatedly to price each caplet.\n",
    "    * A swaption is a single option. However, it involves (if exercised) multiple payments at different times. \n",
    "    "
   ]
  },
  {
   "cell_type": "markdown",
   "id": "ab5403ca",
   "metadata": {},
   "source": [
    "### Discount factor\n",
    "There is one important difference for pricing swaptions using Black's formula:\n",
    "* For other derivatives, (such as caplets,) we used the discount factor, $Z(0,T_o)$ in Black's formula to discount the option payoff.\n",
    "* For a swaption, we instead use the sum of discount factors corresponding to each swap payment:\n",
    "$$Z^{\\text{swap}}(0,T_o,T) \\equiv \\sum_{i=1}^mZ(0,T_i)$$\n",
    "where $T_i$ for $1\\le i \\le m$ denotes the swap payment dates.\n",
    "\n",
    "Thus, for the swaption with $T_o=1, T_s=2, T=3$ written on an **annually paying swap**, we have\n",
    "$$Z^{\\text{swap}}(0,T_o,T) = Z(0,2) + Z(0,3)$$"
   ]
  },
  {
   "cell_type": "markdown",
   "id": "b30455df",
   "metadata": {},
   "source": [
    "### Forward Swap Rate\n",
    "In Black's formula we need the **forward** on the underlying, not the underlying rate itself.\n",
    "* We need the **forward swap rate**, not the (spot) swap rate.\n",
    "\n",
    "The forward swap rate is calculated from spot swap rates (provided in the data) similarly to how we calculate forward interest rates from spot rates.\n",
    "\n",
    "$$\\newcommand{\\Tfwd}{T_{\\text{fwd}}}$$\n",
    "$$\\newcommand{\\fwdswap}{s(t,\\Tfwd,T)}$$\n",
    "$$\\fwdswap \\equiv n\\frac{Z(t,\\Tfwd)-Z(t,T)}{\\sum_{i=1}^mZ(t,T_i)}$$\n",
    "where \n",
    "* $Z$ denotes the usual discount factor.\n",
    "* $n$ is the frequency of the swap payments. (That is, $n=2$ for semiannual swaps, etc.)\n",
    "* $T_i$ for $1\\le i\\le m$ again denotes the time to each swap payment, with $T_m=T$."
   ]
  },
  {
   "cell_type": "markdown",
   "id": "bd1bc92e",
   "metadata": {},
   "source": [
    "## 1.1\n",
    "Calculate the forward swap rate for $\\Tfwd=1$ and $T=3$, noting that the 1x2 swaption has an underlying swap terminating 3 years from today, not 2 years from today.\n",
    "\n",
    "## 1.2\n",
    "Price the swaptions at the quoted implied volatilites and corresponding strikes, all using the just-calculated forward swap rate as the underlying.\n",
    "\n",
    "## 1.3\n",
    "To consider how the expiration and tenor matter, calculate the prices of a few other swaptions for comparison. \n",
    "* No need to get other implied vol quotes--just use the ATM implied vol you have for the 1x2 above. (Here we are just interested in how Black's formula changes with changes in tenor and expiration.\n",
    "* No need to calculate for all the strikes--just do the ATM strike.\n",
    "\n",
    "Alternate swaptions\n",
    "* The 3mo x 2yr swaption\n",
    "* The 1yr x 4yr swaption\n",
    "\n",
    "Report these values and compare to the price of the 1yr x 2yr swaption priced in the previous problem.\n",
    "\n",
    "(In the rest of the homework, we only focus on the 1yr x 2yr swaption. These alternate swaptions are not used further.)"
   ]
  },
  {
   "cell_type": "markdown",
   "id": "fde51829",
   "metadata": {},
   "source": [
    "# 2. SABR Volatility Modeling"
   ]
  },
  {
   "cell_type": "markdown",
   "id": "8f28dacf",
   "metadata": {},
   "source": [
    "Continue considering the 1y2y swaption described in the previous section.\n",
    "\n",
    "Use the quoted volatility skew to fit a SABR model.\n",
    "\n",
    "Throughout, parameterize, `$\\beta=.75$`.\n",
    "\n",
    "## 2.1\n",
    "Estimate $(\\alpha,\\rho,\\nu)$ via the SABR formula in W.5. Feel free to use the `sabr` function in `cmds/volskew.py`.\n",
    "\n",
    "Report the values of these parameters.\n",
    "\n",
    "## 2.2\n",
    "Create a grid of strikes of [.0025, .09], with grid spacing of 10bps, (.0010).\n",
    "\n",
    "Use the SABR model parameterized above to calculate the volatility for each of these strikes.\n",
    "\n",
    "Plot the SABR curve, and also include the market quotes in the plot.\n",
    "\n",
    "Conceptually, does the SABR curve fit these points well? Perfectly?\n",
    "\n",
    "## 2.3\n",
    "Suppose we want to price a 1y2y swaption but with a far out-of-the-money strike of 6\\%. \n",
    "\n",
    "Note that this strike is far outside the range for which we have market quotes, and even if we do have quotes, they likely are not liquid on a given day.\n",
    "\n",
    "Use the SABR vol at this 6\\% strike to price the swaption.\n",
    "\n",
    "\n",
    "## 2.4\n",
    "*Optional*\n",
    "\n",
    "Use the ATM implied volatility to fit $\\alpha$, (sometimes denoted $\\sigma_0$.) That is, for any choice of $(\\rho,\\nu)$, solve a quadratic equation to get $\\alpha$ as a function of those two parameters, along with $\\beta$, which is at its ad-hoc value.\n",
    "\n",
    "Recall that we have a simple relationship between ATM vol and $\\alpha$.\n",
    "$$\\sigma_\\text{ATM} = \\alpha\\frac{B}{F^{1-\\beta}}$$\n",
    "where $B$ is defined in W.5. It is a quadratic expression of $\\alpha$ along with $(\\beta,\\rho,\\nu)$.\n",
    "\n",
    "This decouples the optimization. We solve for $(\\rho,\\nu)$ and $\\alpha$ as a function of the other two parameters.\n",
    "\n",
    "Consider using the function `sabrATM` in `cmds/volskew.py`."
   ]
  },
  {
   "cell_type": "markdown",
   "id": "a11cd876",
   "metadata": {},
   "source": [
    "# 3. SABR and Risk Management"
   ]
  },
  {
   "cell_type": "markdown",
   "id": "9e840c97",
   "metadata": {},
   "source": [
    "We are considering May 1, 2023. The next two days the Board of Governors of the Federal Reserve met.\n",
    "\n",
    "We consider how an **increase** of 25bps in the underlying rate impacts the price of the 1y2y ATM swaption.\n",
    "\n",
    "Here, we are assuming that the Fed's decision\n",
    "* will impact the forward swap rate directly, one-for-one with the Fed Funds rate.\n",
    "* the shift happens on May 3, 2023.\n",
    "\n",
    "Of course, in reality, the Fed's decision\n",
    "* may price in early to some degree or not settle at the Fed's target\n",
    "* may not impact the forward swap rate the same as the Fed Funds rate. We would need to model how the discount curve changes and what that change (level, slope, curvature?) would do to the forward swap rate."
   ]
  },
  {
   "cell_type": "markdown",
   "id": "d670b2db",
   "metadata": {},
   "source": [
    "## 3.1\n",
    "\n",
    "Use Black's equation to re-price the 1y2y swaption with\n",
    "* the same ATM volatility\n",
    "* an underlying (forward swap) rate increased 25 bps.\n",
    "* the same time-to-maturities. (We should decrease these all by 2/365, but we focus here on the delta effects rather than the theta. And it would be a small impact anyone.)\n",
    "\n",
    "Report \n",
    "* the new price\n",
    "* the change in price divided by 25bps, (a numerical delta.)"
   ]
  },
  {
   "cell_type": "markdown",
   "id": "ec7c3417",
   "metadata": {},
   "source": [
    "## 3.2\n",
    "\n",
    "Now, we consider how the volatility may change with the underlying shift of 25bps.\n",
    "\n",
    "Using the same SABR parameters from 2.1, and the strike grid from 2.2, plot the new SABR curve accounting for the underlying rate shifting up 25bps."
   ]
  },
  {
   "cell_type": "markdown",
   "id": "679ac6d5",
   "metadata": {},
   "source": [
    "## 3.3\n",
    "\n",
    "Calculate the new volatility specifically for the pre-shift ATM strike.\n",
    "\n",
    "Use this in Black's formula similar to 3.1, where the only change is the volatility now reflects the shift in the underlying (not the strike).\n",
    "\n",
    "Report\n",
    "* the new price\n",
    "* the change in price divided by 25bps"
   ]
  },
  {
   "cell_type": "markdown",
   "id": "a00f001f",
   "metadata": {},
   "source": [
    "## 3.4\n",
    "\n",
    "How much different is the (dynamic) delta which accounts for the shift in volatility from the (static) delta in 3.1?"
   ]
  },
  {
   "cell_type": "markdown",
   "id": "710029a2",
   "metadata": {},
   "source": [
    "***"
   ]
  }
 ],
 "metadata": {
  "kernelspec": {
   "display_name": "Python 3 (ipykernel)",
   "language": "python",
   "name": "python3"
  },
  "language_info": {
   "codemirror_mode": {
    "name": "ipython",
    "version": 3
   },
   "file_extension": ".py",
   "mimetype": "text/x-python",
   "name": "python",
   "nbconvert_exporter": "python",
   "pygments_lexer": "ipython3",
   "version": "3.9.6"
  }
 },
 "nbformat": 4,
 "nbformat_minor": 5
}
