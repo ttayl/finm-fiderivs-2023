{
 "cells": [
  {
   "cell_type": "markdown",
   "id": "0cc2bd13",
   "metadata": {},
   "source": [
    "# Homework 2\n",
    "\n",
    "## FINM 37500 - 2023\n",
    "\n",
    "### UChicago Financial Mathematics\n",
    "\n",
    "* Mark Hendricks\n",
    "* hendricks@uchicago.edu"
   ]
  },
  {
   "cell_type": "markdown",
   "id": "2c5f237d",
   "metadata": {},
   "source": [
    "# 1. Stripping Caps"
   ]
  },
  {
   "cell_type": "markdown",
   "id": "776ba80e",
   "metadata": {},
   "source": [
    "The file `data/cap_curves_2023-03-31.xlsx` has market data on the following curves:\n",
    "* swap rates (SOFR)\n",
    "* discount factors\n",
    "* forward rates \n",
    "* flat volatilites\n",
    "\n",
    "A few details\n",
    "* the swap and forward rates are quarterly compounded.\n",
    "* the flat volatilites are (Black) quotes on caps containing caplets ranging from expiration of $\\tau=.5$ to $\\tau=T$.\n",
    "* the details of the data prep can be found in `build_data/Process Cap Quotes`."
   ]
  },
  {
   "cell_type": "markdown",
   "id": "0095e4c0",
   "metadata": {},
   "source": [
    "## Context\n",
    "\n",
    "Recall that \n",
    "* a cap is made of caplets with $.5\\le \\tau \\le T$\n",
    "* the flat volatility at $T$ is input for every caplet corresponding to the cap of $T$.\n",
    "* use Black's formula for this calculation.\n",
    "* in Black's formula, use $T-.25$ as the rate for the caplet is determined one period before it is paid.\n",
    "\n",
    "As for the cap parameters,\n",
    "* the cap's strike is the swap rate with the same tenor. So the $T=2$ cap is struck at the swap rate of $\\tau=2$.\n",
    "* the notional of the cap is $100.\n",
    "* the payoff of each caplet is\n",
    "\n",
    "$$\\frac{100}{n}\\max(r-K,0)$$\n",
    "\n",
    "where $n$ is the frequency; here $n=4$.\n",
    "\n",
    "Thus, the corresponding value in Black's fomula for a caplet is\n",
    "$$P^{\\text{cap}}_{T} = \\frac{100}{n} \\sum_{\\tau=.5}^T B_{\\text{call}}(\\overline{\\sigma}_T, \\tau-.25, K=s_T, f_{\\tau}, Z_{\\tau})$$\n",
    "Note here that for every caplet in cap $T$, we plug in the same \n",
    "* flat vol with tenor $T$.\n",
    "* strike which is the swap rate of maturity $T$.\n",
    "\n",
    "The notation above is using subscripts for tenor / maturity rather than time period. That is, $Z_{\\tau}$ denotes $Z(t, t+\\tau)$ which is today's discount factor for maturity $\\tau$. Similarly for the swap rate of tenor $T$, denoted above $s_T$ and forward rate $f(t,t+\\tau-.25, t+\\tau)$ denoted simply $f_{\\tau}$."
   ]
  },
  {
   "cell_type": "markdown",
   "id": "dafd346d",
   "metadata": {},
   "source": [
    "### Black's Formula\n",
    "Recall Black's formula:\n",
    "\n",
    "$$\\begin{align}\n",
    "B_{\\text{call}}(\\sigma, T, K, f, Z) = &\\; Z\\left[f\\mathcal{N}\\left(d_1\\right) - K\\mathcal{N}(d_2)\\right] \\\\\n",
    "d_1 =& \\frac{\\ln\\left(\\frac{f}{K}\\right) + \\frac{\\sigma^2}{2}T}{\\sigma\\sqrt{T}} \\\\\n",
    "d_2 =& d_1 -\\sigma\\sqrt{T}\n",
    "\\end{align}\n",
    "$$"
   ]
  },
  {
   "cell_type": "markdown",
   "id": "c29b7b66",
   "metadata": {},
   "source": [
    "## 1.1 Cap Prices\n",
    "\n",
    "For each cap maturity, $.5\\le T \\le 10$, use the flat volatility to get the price of the cap.\n",
    "\n",
    "Report the cap prices across expirations, $.5\\le T \\le 10$.\n",
    "\n",
    "Plot the cap prices across expirations."
   ]
  },
  {
   "cell_type": "markdown",
   "id": "d3220ae1",
   "metadata": {},
   "source": [
    "## 1.2 Caplet Prices and Forward Volatilities\n",
    "\n",
    "Using the cap prices, strip out the\n",
    "* caplet prices\n",
    "* forward volatility at $\\tau$ which properly prices caplet $\\tau$ using Black's formula.\n",
    "\n",
    "List and plot the forward volatility versus the flat volatiltiy."
   ]
  },
  {
   "cell_type": "markdown",
   "id": "4502c224",
   "metadata": {},
   "source": [
    "***"
   ]
  },
  {
   "cell_type": "markdown",
   "id": "9985751c",
   "metadata": {},
   "source": [
    "# 2. Pricing a Callable Bond with BDT"
   ]
  },
  {
   "cell_type": "markdown",
   "id": "af78123d",
   "metadata": {},
   "source": [
    "## 2.1 Calibrate a BDT model \n",
    "\n",
    "Use data from the file `data/cap_curves_2023-03-31.xlsx` to calibrate the model.\n",
    "* Use the forward volatilities calculated in 1.2 to calibrate $\\sigma$ at each step. \n",
    "    * If you could not solve 1.2, then use $\\sigma=.35$ at every step.\n",
    "    * You do not have a forward volatility at $\\tau=.25$ given there is no caplet there. For purposes of the BDT model, assume $\\sigma_{.25}$ is equal to the forward volatility at the first estimated period, $t=0.50$. That is, use the first estimated forward vol (corresponding to $\\tau=.50$ for both $t=.25$ and $t=.50$ in the BDT tree.\n",
    "    \n",
    "* Given these $\\sigma$ parameters, calibrate the series of $\\theta$ to fit the zero-coupon bond prices given by `discounts` (multiplied by 100).\n",
    "\n",
    "Display the series of $\\theta$ parameters.\n",
    "\n",
    "Display the tree of rates from $0\\le t \\le 10$."
   ]
  },
  {
   "cell_type": "markdown",
   "id": "ec88e17d",
   "metadata": {},
   "source": [
    "## 2.2 Price the Freddie Mac Bond\n",
    "\n",
    "The U.S. has many forms of *agency* debt in addition to *Treasury* debt. The largest of these *agency* issuers are the housing entities commonly referred to as Freddie Mac and Fannie Mae. While technically distinct from the U.S. Treasury, they are widely seen as having the full credit and backing of the Treasury--particularly after the bailouts of 2008.\n",
    "\n",
    "Thus, we will examine this agency debt as (credit) risk-free, just like Treasury debt.\n",
    "\n",
    "Consider the Freddie Mac bond with Bloomberg ID `BX8543742`.\n",
    "* Issued 2022-07-26\n",
    "* Matures 2030-07-26\n",
    "* Semiannual coupons\n",
    "* Coupon rate 4.375%\n",
    "* Issued 25mm.\n",
    "\n",
    "Price this bond using the model calibrated from 2023-03-31 data.\n",
    "* We will model this bond as maturing 2030-06-30 (a few weeks early) so that it has maturity of 7.25 years, modeled at quarterly intervals.\n",
    "* Note that the coupons are paid in the final period and every other quarter prior (semiannually.) Thus, it pays a coupon in after just one quarter from the current time.\n",
    "\n",
    "The market quote as of 2023-03-31 is \\$97.478.\n",
    "\n",
    "Use the BDT model to price the bond. How close is it to the market quote?"
   ]
  },
  {
   "cell_type": "markdown",
   "id": "d45e8302",
   "metadata": {},
   "source": [
    "## 2.3 Callable Bond\n",
    "\n",
    "One important difference between Treasury debt and this bond is that this bond is **callable**\n",
    "* Furthermore, this bond is callable with **American** style--it can be called any quarter.\n",
    "* Strike is 100.\n",
    "* Note that the holder of the bond is short this call option; (the issuer has the optionality.) \n",
    "\n",
    "**Use the BDT model to price this implicit American call option and the resulting callable bond.**\n",
    "* Note that the price of the callable bond is your answer to the previous question minus this American option.\n",
    "* How close is the modeled price to the market quoted price now? \n",
    "\n",
    "#### Caution on coupons\n",
    "* Be careful in modeling the underlying for the American option.\n",
    "* In pricing the bond in the previous problem, you should have considered the coupon values.\n",
    "* But in pricing the option, you must account for the fact that the price drops by the coupon value at the node the coupon is paid. (That is, the tree shows the *ex-coupon* price.)\n",
    "* Consider building the bond valuation tree for the problem above which incorporates the coupons, similar to the cashflow trees we used in W.2. for caps and swaps.\n",
    "* But then adjust this bond value tree by subtracting the current period's coupons in order to build the underlying tree."
   ]
  },
  {
   "cell_type": "markdown",
   "id": "e76b7b85",
   "metadata": {},
   "source": [
    "## 2.4 Exercising the Option\n",
    "\n",
    "Show a heatmap of the nodes in which the American bond is exercised.\n",
    "\n",
    "Is it exercised any time it is in-the-money? What stands out about this relationship?"
   ]
  },
  {
   "cell_type": "markdown",
   "id": "ebd59f26",
   "metadata": {},
   "source": [
    "***"
   ]
  },
  {
   "cell_type": "markdown",
   "id": "6932fef2",
   "metadata": {},
   "source": [
    "# 3. Option Adjusted Spread\n",
    "\n",
    "*This section is optional. No need to submit it, but we will likely discuss it in class.*"
   ]
  },
  {
   "cell_type": "markdown",
   "id": "4fc2f40d",
   "metadata": {},
   "source": [
    "## 3.1 Calculate the OAS\n",
    "\n",
    "The **option adjusted spread** is the spread one would need to add to the spot curve, (the discounts), to get the modeled price to match the market price of the derivative. That is, how many bps would you need to add or subtract to all the spot rates in order to perfectly price this callable bond? \n",
    "\n",
    "* Ignore the effect of the parallel shift in rates on the forward vols. (No need to recalculate section 1.) \n",
    "\n",
    "* Use the parallel shifts to recalibrate the $\\theta$ parameters in the BDT tree. \n",
    "\n",
    "Report the OAS needed to add (or subtract) in a parallel shift in spot to correctly model the callable bond.\n",
    "\n",
    "#### Note:\n",
    "This **OAS** is a common way to quote whether a derivative seems to be undervalued (positive OAS) or overvalued (negative OAS.) Of course, the OAS is dependent on our modeling choices, so it could also indicate the model is bad.\n",
    "\n",
    "## 3.2 Convexity\n",
    "\n",
    "Continue with parallel shifts of the (present, market quoted) yield curve. \n",
    "* Plot the relationship between the value of the callable bond as the spot curve shifts higher and lower.\n",
    "* Do you see convexity in this relationship?"
   ]
  }
 ],
 "metadata": {
  "kernelspec": {
   "display_name": "Python 3 (ipykernel)",
   "language": "python",
   "name": "python3"
  },
  "language_info": {
   "codemirror_mode": {
    "name": "ipython",
    "version": 3
   },
   "file_extension": ".py",
   "mimetype": "text/x-python",
   "name": "python",
   "nbconvert_exporter": "python",
   "pygments_lexer": "ipython3",
   "version": "3.9.6"
  }
 },
 "nbformat": 4,
 "nbformat_minor": 5
}
