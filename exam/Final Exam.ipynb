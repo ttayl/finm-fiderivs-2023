{
 "cells": [
  {
   "cell_type": "markdown",
   "id": "0cc2bd13",
   "metadata": {},
   "source": [
    "# Final Exam Solution\n",
    "\n",
    "## FINM 37500 - 2023\n",
    "\n",
    "### UChicago Financial Mathematics\n",
    "\n",
    "* Mark Hendricks\n",
    "* hendricks@uchicago.edu"
   ]
  },
  {
   "cell_type": "markdown",
   "id": "353e217c",
   "metadata": {},
   "source": [
    "# Instructions"
   ]
  },
  {
   "cell_type": "markdown",
   "id": "8c4c2f8d",
   "metadata": {},
   "source": [
    "## Please note the following:\n",
    "\n",
    "Points\n",
    "* The exam is 150 points.\n",
    "* You have 180 minutes to complete the exam.\n",
    "* For every minute late you submit the exam, you will lose one point.\n",
    "Final Exam\n",
    "\n",
    "Submission\n",
    "* You will upload your solution to the Final Exam assignment on Canvas, where you downloaded this.\n",
    "* Your submission should be readable, (the graders can understand your answers,) and it should include all code used in your analysis in a file format that the code can be executed. (ie. .ipynb preferred, .pdf is unacceptable.)\n",
    "\n",
    "Rules\n",
    "* The exam is open-material, closed-communication.\n",
    "* You do not need to cite material from the course github repo--you are welcome to use the code posted there without citation, (only for this exam.)\n",
    "\n",
    "Advice\n",
    "* If you find any question to be unclear, state your interpretation and proceed. We will only answer questions of interpretation if there is a typo, error, etc.\n",
    "* The exam will be graded for partial credit."
   ]
  },
  {
   "cell_type": "markdown",
   "id": "f6bbc1e6",
   "metadata": {},
   "source": [
    "## Data\n",
    "\n",
    "**All data files are found in the class github repo, in the `data` folder.**\n",
    "\n",
    "This exam makes use of the following data files:\n",
    "* `exam_data_2023-05-05.xlsx`\n",
    "\n",
    "This file has sheets for...\n",
    "* curve data - discount factors and forward volatilities\n",
    "* BDT tree of rates (continuously compounded, as usual)\n",
    "\n",
    "If useful, the following code loads the two sheets:"
   ]
  },
  {
   "cell_type": "code",
   "execution_count": 1,
   "id": "5d72d35f",
   "metadata": {},
   "outputs": [],
   "source": [
    "# FILEIN = '../data/exam_data_2023-05-05.xlsx'\n",
    "# sheet_curves = 'rate curves'\n",
    "# sheet_tree = 'rate tree'\n",
    "\n",
    "# curves = pd.read_excel(FILEIN, sheet_name=sheet_curves).set_index('tenor')\n",
    "# ratetree = pd.read_excel(FILEIN, sheet_name=sheet_tree).set_index('state')\n",
    "# ratetree.columns.name = 'time'"
   ]
  },
  {
   "cell_type": "markdown",
   "id": "8b19b33e",
   "metadata": {},
   "source": [
    "## Scoring\n",
    "\n",
    "| Problem | Points |\n",
    "|---------|--------|\n",
    "| 1       | 60     |\n",
    "| 2       | 30     |\n",
    "| 3       | 20     |\n",
    "| 4       | 15     |\n",
    "| 5       | 15     |\n",
    "| 6       | 10     |"
   ]
  },
  {
   "cell_type": "markdown",
   "id": "ddd038cf",
   "metadata": {},
   "source": [
    "### Each numbered question is worth 5pts."
   ]
  },
  {
   "cell_type": "markdown",
   "id": "11c37e33",
   "metadata": {},
   "source": [
    "# 1. Short Answer"
   ]
  },
  {
   "cell_type": "markdown",
   "id": "ac4e0f16",
   "metadata": {},
   "source": [
    "### No Data Needed\n",
    "\n",
    "These problem does not require any data file. Rather, analyze the situation conceptually, based on the information below. \n",
    "\n",
    "A few questions may require simple arithmetic."
   ]
  },
  {
   "cell_type": "markdown",
   "id": "6b6ca24a",
   "metadata": {},
   "source": [
    "## 1.1\n",
    "\n",
    "Consider a future on a 5-year treasury. If the exchange changes the treasury futures conversion factor to use a 3\\% discount instead of 6\\%, would you expect substantial changes to the...\n",
    "* the futures price?\n",
    "* the forward price of the underlying CTD treasury?\n",
    "\n",
    "Explain."
   ]
  },
  {
   "cell_type": "markdown",
   "id": "1a179b66",
   "metadata": {},
   "source": [
    "## 1.2\n",
    "\n",
    "Explain how SABR allows for an extra \"channel\" of delta hedging."
   ]
  },
  {
   "cell_type": "markdown",
   "id": "41613887",
   "metadata": {},
   "source": [
    "## 1.3\n",
    "\n",
    "Local volatility fits quoted volatilities exactly, whereas SABR does not.\n",
    "\n",
    "What advantage does SABR have over local volatility? How does it relate to the fact above?"
   ]
  },
  {
   "cell_type": "markdown",
   "id": "37f30f49",
   "metadata": {},
   "source": [
    "## 1.4\n",
    "Relative to three years ago, do you think BDT or Ho-Lee is better suited to today's interest rates?\n",
    "\n",
    "Explain.\n",
    "\n",
    "## 1.5\n",
    "True or False: To value a caplet in Black's formula, we input the spot interest rate as the underlying.\n",
    "\n",
    "Explain.\n",
    "\n",
    "## 1.6\n",
    "Should we expect a delta-hedged callable bond to underperform or overperform a delta-hedged vanilla bond? Explain."
   ]
  },
  {
   "cell_type": "markdown",
   "id": "a87b580c",
   "metadata": {},
   "source": [
    "## 1.7\n",
    "True or False: In a frictionless market, gross basis and net basis are nonzero before maturity, but they converge to zero for the CTD bond at maturity.\n",
    "\n",
    "## 1.8\n",
    "True or False: Bonds with higher coupons have larger \"forward drops\".\n",
    "\n",
    "## 1.9\n",
    "True or False: We expect that high duration bonds are typically CTD."
   ]
  },
  {
   "cell_type": "markdown",
   "id": "c80baf18",
   "metadata": {},
   "source": [
    "## 1.10\n",
    "\n",
    "True or False: If forward volatility is decreasing over maturity then flat volatility is also decreasing over maturity.\n",
    "\n",
    "## 1.11\n",
    "\n",
    "True or False: From fed funds futures prices, we can extract the probability of interest rate movements for any meeting date.\n",
    "\n",
    "## 1.12\n",
    "\n",
    "How is Black's model useful---and necessary--- in fixed income derivatives, even if we choose to use a more complex, proprietary model."
   ]
  },
  {
   "cell_type": "markdown",
   "id": "b1b7f82f",
   "metadata": {},
   "source": [
    "***"
   ]
  },
  {
   "cell_type": "markdown",
   "id": "a643f0e5",
   "metadata": {},
   "source": [
    "# 2. Bond Pricing"
   ]
  },
  {
   "cell_type": "markdown",
   "id": "ad12b4dc",
   "metadata": {},
   "source": [
    "## 2.1\n",
    "Use the BDT tree to price a bond.\n",
    "* Time-to-maturity is 3 years\n",
    "* Coupon rate is 1\\%.\n",
    "\n",
    "As usual, \n",
    "* coupons are paid semiannually.\n",
    "* face value is $N=100$.\n",
    "\n",
    "Display the tree of the bond's value, where each node is **as usual** the ex-coupon dirty price. \n",
    "* Thus, the value at node 0.5 is just after the coupon was paid.\n",
    "* The value at node 0.25 includes accrued interest."
   ]
  },
  {
   "cell_type": "markdown",
   "id": "a603098b",
   "metadata": {},
   "source": [
    "## 2.2\n",
    "\n",
    "Display the tree of the bond's **clean price** (still ex-coupon, as usual.)"
   ]
  },
  {
   "cell_type": "markdown",
   "id": "62c41d49",
   "metadata": {},
   "source": [
    "## 2.3\n",
    "\n",
    "Consider a European **put** option on the bond.\n",
    "* Expiration of the option is 1 year.\n",
    "* Strike is equal to face value, $100$.\n",
    "* At exercise, the option holder receives the strike plus accrued interest.\n",
    "\n",
    "Display the tree of the option price."
   ]
  },
  {
   "cell_type": "markdown",
   "id": "e4fe34cd",
   "metadata": {},
   "source": [
    "## 2.4\n",
    "\n",
    "Consider the same option, but this time **American**.\n",
    "\n",
    "Display the tree of the option price."
   ]
  },
  {
   "cell_type": "markdown",
   "id": "34c30452",
   "metadata": {},
   "source": [
    "## 2.5\n",
    "\n",
    "Is there a node where the option is in-the-money, yet it is not optimal to exercise? \n",
    "\n",
    "Briefly explain, and if so, give an example."
   ]
  },
  {
   "cell_type": "markdown",
   "id": "ec51a652",
   "metadata": {},
   "source": [
    "## 2.6 \n",
    "\n",
    "Consider an **amortizing bond** with \n",
    "* maturity 2.5 years.\n",
    "* coupon rate of 40\\%.\n",
    "* Notional of \\$100.\n",
    "\n",
    "Unlike a typical bond, it pays a coupon semiannually, but it does not ever pay the face value. In that sense, one could view the coupons as amortized payments of the face value.\n",
    "\n",
    "Value the amortizing bond and display the valuation tree."
   ]
  },
  {
   "cell_type": "markdown",
   "id": "f8b57257",
   "metadata": {},
   "source": [
    "***"
   ]
  },
  {
   "cell_type": "markdown",
   "id": "07b7691a",
   "metadata": {},
   "source": [
    "# 3 Floorlet"
   ]
  },
  {
   "cell_type": "markdown",
   "id": "ad20485e",
   "metadata": {},
   "source": [
    "## 3.1 (5pts)\n",
    "\n",
    "Consider a **floorlet** with\n",
    "* Strike is $0.06$\n",
    "* Notional $N=100$\n",
    "\n",
    "As usual, the floorlet has a one-quarter lag between when the payoff is determined and when it is received.\n",
    "* determined at $T=2$\n",
    "* payoff at $T=2.25$.\n",
    "\n",
    "Use the BDT tree of rates to value the floorlet. Display the valuation tree."
   ]
  },
  {
   "cell_type": "markdown",
   "id": "d586f428",
   "metadata": {},
   "source": [
    "## 3.2 (5pts)\n",
    "\n",
    "Regardless of your price above, assume the market is quoting the floorlet at a price of \\$0.80.\n",
    "\n",
    "Use Black's formula to calculate the implied volatility of this floorlet, supposing the underlying is currently 3.5\\%."
   ]
  },
  {
   "cell_type": "markdown",
   "id": "7fa1f438",
   "metadata": {},
   "source": [
    "## 3.3 (5pts)\n",
    "\n",
    "Based on your answers to 3.1 and 3.2, is the OAS positive or negative? Explain."
   ]
  },
  {
   "cell_type": "markdown",
   "id": "b09acd75",
   "metadata": {},
   "source": [
    "## 3.4 (5pts)\n",
    "\n",
    "Consider a floorlet which pays immediately upon the payoff being determined rather than having the one-quarter lag.\n",
    "\n",
    "Price this alternate floorlet and display the valuation tree."
   ]
  },
  {
   "cell_type": "markdown",
   "id": "eead6133",
   "metadata": {},
   "source": [
    "***"
   ]
  },
  {
   "cell_type": "markdown",
   "id": "8c24bcc8",
   "metadata": {},
   "source": [
    "# 4. Swaps"
   ]
  },
  {
   "cell_type": "markdown",
   "id": "ef6b13e3",
   "metadata": {},
   "source": [
    "## 4.1 \n",
    "\n",
    "Consider a **paying-fixed** swap which resets (and make payments) **quarterly**.\n",
    "* Maturity is $T=3$\n",
    "* Notional is $N=100$.\n",
    "* Swap rate is 3.53\\%.\n",
    "* The floating rate is the quarterly compounded interest rate.\n",
    "\n",
    "(Recall that paying-fixed means you pay the swap rate and receive the floating rate.)\n",
    "\n",
    "Display the cashflow tree."
   ]
  },
  {
   "cell_type": "markdown",
   "id": "72a11291",
   "metadata": {},
   "source": [
    "## 4.2\n",
    "\n",
    "Display the value tree."
   ]
  },
  {
   "cell_type": "markdown",
   "id": "dfaa9485",
   "metadata": {},
   "source": [
    "## 4.3\n",
    "\n",
    "Consider a **european** swaption, (option to enter into the paying-fixed swap).\n",
    "* expiration is $T=1$\n",
    "* there is no strike at exercise.\n",
    "    - could think of this as a strike of 0\n",
    "    - but often referred to as a strike of 3.53\\%, the fixed rate on the underlying swap\n",
    "    \n",
    "Display the swaption valuation tree."
   ]
  },
  {
   "cell_type": "markdown",
   "id": "62eafeec",
   "metadata": {},
   "source": [
    "***"
   ]
  },
  {
   "cell_type": "markdown",
   "id": "c928e360",
   "metadata": {},
   "source": [
    "# 5. Treasury Futures"
   ]
  },
  {
   "cell_type": "markdown",
   "id": "07ef778e",
   "metadata": {},
   "source": [
    "## 5.1\n",
    "\n",
    "Consider a bond with\n",
    "* Market (clean) price of 97.50\n",
    "* Futures conversion ratio of 0.95\n",
    "* Futures price is 103.\n",
    "\n",
    "It has\n",
    "* Coupon rate of 1\\% \n",
    "* face value of 100.\n",
    "\n",
    "As for the coupon timing,\n",
    "* The bond paid a coupon 38 days ago.\n",
    "* It will pay another coupon in 144 days.\n",
    "* The repo rate over the next 90 days is (annualized in the usual way) 5\\%.\n",
    "\n",
    "Calculate the forward price of the bond for delivery in 90 days. "
   ]
  },
  {
   "cell_type": "markdown",
   "id": "cf082c73",
   "metadata": {},
   "source": [
    "## 5.2\n",
    "\n",
    "Calculate the gross and net basis of the bond. The futures price is 103."
   ]
  },
  {
   "cell_type": "markdown",
   "id": "59a33bc7",
   "metadata": {},
   "source": [
    "## 5.3\n",
    "\n",
    "*Unrelated to 5.1 and 5.2...*\n",
    "\n",
    "Suppose you are pricing a futures contract on the 5-year treasury. The contract expires in 1 year, $T=1$.\n",
    "\n",
    "Based on the deliverable bonds, we find the CTD prices at expiration as listed in the table for each state.\n",
    "\n",
    "| state |CTD Converted Clean Price at $T=1$ |\n",
    "|--------|--------|\n",
    "|0   | 99.05|\n",
    "|1       |102.47 |\n",
    "|2       | 105.31|\n",
    "|3       |107.62 |\n",
    "| 4      |109.79|\n",
    "\n",
    "Using the table, calculate the price of the futures contract.\n",
    "\n",
    "*Note that there is no need to build trees of the underlying bonds and figure out the CTD for each state. All that has been done, and you have the table above.*"
   ]
  },
  {
   "cell_type": "markdown",
   "id": "21cff467",
   "metadata": {},
   "source": [
    "***"
   ]
  },
  {
   "cell_type": "markdown",
   "id": "798bb69b",
   "metadata": {},
   "source": [
    "# 6. Fitting the BDT Tree\n",
    "\n",
    "Fit a BDT Tree. We will not use it for any other questions on the exam. \n",
    "\n",
    "\n",
    "## 6.1\n",
    "Use the discount rates provided in the data file.\n",
    "\n",
    "Instead of using the forward volatilities, use a constant $\\sigma=0.50$ at every step.\n",
    "\n",
    "Report the estimated thetas.\n",
    "\n",
    "## 6.2\n",
    "Regardless of your previous answer, suppose your estimated thetas are all equal to 0.5.\n",
    "\n",
    "Display the interest-rate tree."
   ]
  },
  {
   "cell_type": "markdown",
   "id": "d84f1aaf",
   "metadata": {},
   "source": [
    "***"
   ]
  }
 ],
 "metadata": {
  "kernelspec": {
   "display_name": "Python 3 (ipykernel)",
   "language": "python",
   "name": "python3"
  },
  "language_info": {
   "codemirror_mode": {
    "name": "ipython",
    "version": 3
   },
   "file_extension": ".py",
   "mimetype": "text/x-python",
   "name": "python",
   "nbconvert_exporter": "python",
   "pygments_lexer": "ipython3",
   "version": "3.9.6"
  }
 },
 "nbformat": 4,
 "nbformat_minor": 5
}
